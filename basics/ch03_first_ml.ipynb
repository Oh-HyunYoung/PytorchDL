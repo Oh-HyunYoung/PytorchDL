{
  "nbformat": 4,
  "nbformat_minor": 0,
  "metadata": {
    "kernelspec": {
      "display_name": "Python 3",
      "language": "python",
      "name": "python3"
    },
    "language_info": {
      "codemirror_mode": {
        "name": "ipython",
        "version": 3
      },
      "file_extension": ".py",
      "mimetype": "text/x-python",
      "name": "python",
      "nbconvert_exporter": "python",
      "pygments_lexer": "ipython3",
      "version": "3.8.5"
    },
    "colab": {
      "provenance": [],
      "collapsed_sections": [],
      "include_colab_link": true
    }
  },
  "cells": [
    {
      "cell_type": "markdown",
      "metadata": {
        "id": "view-in-github",
        "colab_type": "text"
      },
      "source": [
        "<a href=\"https://colab.research.google.com/github/Oh-HyunYoung/PytorchDL/blob/main/basics/ch03_first_ml.ipynb\" target=\"_parent\"><img src=\"https://colab.research.google.com/assets/colab-badge.svg\" alt=\"Open In Colab\"/></a>"
      ]
    },
    {
      "cell_type": "markdown",
      "metadata": {
        "id": "oG_Ih-LJWVQe"
      },
      "source": [
        "# 3장 처음 시작하는 머신러닝"
      ]
    },
    {
      "cell_type": "markdown",
      "source": [
        "* \"부록3 매트플롯립 입문\"에서 한글 폰트를 올바르게 출력하기 위한 설치 방법을 설명했다. 설치 방법은 다음과 같다.\n",
        "\n"
      ],
      "metadata": {
        "id": "Y2Cad_W3hxTI"
      }
    },
    {
      "cell_type": "code",
      "source": [
        "!sudo apt-get install -y fonts-nanum* | tail -n 1\n",
        "!sudo fc-cache -fv\n",
        "!rm -rf ~/.cache/matplotlib"
      ],
      "metadata": {
        "colab": {
          "base_uri": "https://localhost:8080/"
        },
        "id": "hx8o84ZfhtID",
        "outputId": "3d3899b3-21e9-4cbc-8e9f-2bf468cabca2"
      },
      "execution_count": 19,
      "outputs": [
        {
          "output_type": "stream",
          "name": "stdout",
          "text": [
            "0 upgraded, 0 newly installed, 0 to remove and 20 not upgraded.\n",
            "/usr/share/fonts: caching, new cache contents: 0 fonts, 1 dirs\n",
            "/usr/share/fonts/truetype: caching, new cache contents: 0 fonts, 3 dirs\n",
            "/usr/share/fonts/truetype/humor-sans: caching, new cache contents: 1 fonts, 0 dirs\n",
            "/usr/share/fonts/truetype/liberation: caching, new cache contents: 16 fonts, 0 dirs\n",
            "/usr/share/fonts/truetype/nanum: caching, new cache contents: 31 fonts, 0 dirs\n",
            "/usr/local/share/fonts: caching, new cache contents: 0 fonts, 0 dirs\n",
            "/root/.local/share/fonts: skipping, no such directory\n",
            "/root/.fonts: skipping, no such directory\n",
            "/var/cache/fontconfig: cleaning cache directory\n",
            "/root/.cache/fontconfig: not cleaning non-existent cache directory\n",
            "/root/.fontconfig: not cleaning non-existent cache directory\n",
            "fc-cache: succeeded\n"
          ]
        }
      ]
    },
    {
      "cell_type": "code",
      "metadata": {
        "id": "AbiVE7SfWVQh",
        "colab": {
          "base_uri": "https://localhost:8080/"
        },
        "outputId": "23e33a8d-5937-4c68-86c9-532426cf4f91"
      },
      "source": [
        "# 필요 라이브러리 설치\n",
        "\n",
        "!pip install torchviz | tail -n 1"
      ],
      "execution_count": 20,
      "outputs": [
        {
          "output_type": "stream",
          "name": "stdout",
          "text": [
            "Requirement already satisfied: typing-extensions in /usr/local/lib/python3.7/dist-packages (from torch->torchviz) (4.1.1)\n"
          ]
        }
      ]
    },
    {
      "cell_type": "markdown",
      "source": [
        "* 모든 설치가 끝나면 한글 폰트를 바르게 출력하기 위해 **[런타임]** -> **[런타임 다시시작]**을 클릭한 다음, 아래 셀부터 코드를 실행해 주십시오.\n"
      ],
      "metadata": {
        "id": "ZKxX20SOjjSn"
      }
    },
    {
      "cell_type": "code",
      "metadata": {
        "id": "qdBSAV7jWVQi"
      },
      "source": [
        "# 라이브러리 임포트\n",
        "\n",
        "%matplotlib inline\n",
        "import numpy as np\n",
        "import matplotlib.pyplot as plt\n",
        "from IPython.display import display\n",
        "\n",
        "# 폰트 관련 용도\n",
        "import matplotlib.font_manager as fm\n",
        "\n",
        "# 나눔 고딕 폰트의 경로 명시\n",
        "path = '/usr/share/fonts/truetype/nanum/NanumGothic.ttf'\n",
        "font_name = fm.FontProperties(fname=path, size=10).get_name()"
      ],
      "execution_count": 21,
      "outputs": []
    },
    {
      "cell_type": "code",
      "metadata": {
        "id": "qY_7aVQMWVQi"
      },
      "source": [
        "# 파이토치 관련 라이브러리\n",
        "import torch\n",
        "from torchviz import make_dot"
      ],
      "execution_count": 22,
      "outputs": []
    },
    {
      "cell_type": "code",
      "metadata": {
        "id": "2zhf9g-hWVQi"
      },
      "source": [
        "# 기본 폰트 설정\n",
        "plt.rcParams['font.family'] = font_name\n",
        "\n",
        "# 기본 폰트 사이즈 변경\n",
        "plt.rcParams['font.size'] = 14\n",
        "\n",
        "# 기본 그래프 사이즈 변경\n",
        "plt.rcParams['figure.figsize'] = (6,6)\n",
        "\n",
        "# 기본 그리드 표시\n",
        "# 필요에 따라 설정할 때는, plt.grid()\n",
        "plt.rcParams['axes.grid'] = True\n",
        "\n",
        "# 마이너스 기호 정상 출력\n",
        "plt.rcParams['axes.unicode_minus'] = False\n",
        "\n",
        "# 넘파이 부동소수점 자릿수 표시\n",
        "np.set_printoptions(suppress=True, precision=4)"
      ],
      "execution_count": 23,
      "outputs": []
    },
    {
      "cell_type": "code",
      "metadata": {
        "id": "gA7kd5H9kPxI"
      },
      "source": [
        "# warning 표시 끄기\n",
        "import warnings\n",
        "warnings.simplefilter('ignore')"
      ],
      "execution_count": 24,
      "outputs": []
    },
    {
      "cell_type": "markdown",
      "source": [
        "## 3.3 경사 하강법\n",
        "- 위치를 정확하게 측정할 수 있는 컴퍼스와 1m 길이를 측정할 수 있는 자와 현재 고도수를 cm 단위로 측정할 수 있는 고성능 GPS, 을 가지고 산을 오르는 법?\n",
        "- 경사가 가장 가파른 방향이 꼭대기로 향하는 지름길\n",
        "- 최솟값을 구하는 문제(가장 작은 손실)\n",
        "\n",
        "##3.3-1 경사하강법이란\n",
        "- 가로세로 방향으로 차츰차츰 값을 옮겨가며 함수 값을 계산해서, 가장 효율적인 다음 이동 방향을 찾는 것"
      ],
      "metadata": {
        "id": "yaCV9o1DlY-Q"
      }
    },
    {
      "cell_type": "markdown",
      "metadata": {
        "id": "iGBUENgrWVQj"
      },
      "source": [
        "## 3.4 경사 하강법 구현"
      ]
    },
    {
      "cell_type": "code",
      "metadata": {
        "id": "wPlWOAXPWVQj"
      },
      "source": [
        "def L(u, v):\n",
        "    return 3 * u**2 + 3 * v**2 - u*v + 7*u - 7*v + 10\n",
        "def Lu(u, v):\n",
        "    return 6* u - v + 7\n",
        "def Lv(u, v):\n",
        "    return 6* v - u - 7\n",
        "\n",
        "u = np.linspace(-5, 5, 501)\n",
        "v = np.linspace(-5, 5, 501)\n",
        "U, V = np.meshgrid(u, v)\n",
        "Z = L(U, V)"
      ],
      "execution_count": 6,
      "outputs": []
    },
    {
      "cell_type": "code",
      "metadata": {
        "id": "gfvzBvD9WVQj"
      },
      "source": [
        "# 경사 하강법 시뮬레이션\n",
        "W = np.array([4.0, 4.0])\n",
        "W1 = [W[0]]\n",
        "W2 = [W[1]]\n",
        "N = 21\n",
        "alpha = 0.05\n",
        "for i in range(N):\n",
        "    W = W - alpha *np.array([Lu(W[0], W[1]), Lv(W[0], W[1])])\n",
        "    W1.append(W[0])\n",
        "    W2.append(W[1])"
      ],
      "execution_count": 7,
      "outputs": []
    },
    {
      "cell_type": "code",
      "metadata": {
        "id": "fnaOfU2mWVQk",
        "colab": {
          "base_uri": "https://localhost:8080/",
          "height": 523
        },
        "outputId": "30e7c599-1d03-4cc8-cdb7-f0ec8e732da6"
      },
      "source": [
        "n_loop=11\n",
        "\n",
        "WW1 = np.array(W1[:n_loop])\n",
        "WW2 = np.array(W2[:n_loop])\n",
        "ZZ = L(WW1, WW2)\n",
        "fig = plt.figure(figsize=(8,8))\n",
        "ax = plt.axes(projection='3d')\n",
        "ax.set_zlim(0,250)\n",
        "ax.set_xlabel('W')\n",
        "ax.set_ylabel('B')\n",
        "ax.set_zlabel('loss')\n",
        "ax.view_init(50, 240)\n",
        "ax.xaxis._axinfo[\"grid\"]['linewidth'] = 2.\n",
        "ax.yaxis._axinfo[\"grid\"]['linewidth'] = 2.\n",
        "ax.zaxis._axinfo[\"grid\"]['linewidth'] = 2.\n",
        "ax.contour3D(U, V, Z, 100, cmap='Blues', alpha=0.7)\n",
        "ax.plot3D(WW1, WW2, ZZ, 'o-', c='k', alpha=1, markersize=7)\n",
        "plt.show()\n",
        "# 손실은 그래프 형태가 산이 아닌 절구 모양\n",
        "# 가장 낮게 패인 곳을 향해 조금씩 파라미터가 변화하는 양상을 보여줌"
      ],
      "execution_count": 8,
      "outputs": [
        {
          "output_type": "stream",
          "name": "stderr",
          "text": [
            "/usr/local/lib/python3.7/dist-packages/mpl_toolkits/mplot3d/art3d.py:304: VisibleDeprecationWarning: Creating an ndarray from ragged nested sequences (which is a list-or-tuple of lists-or-tuples-or ndarrays with different lengths or shapes) is deprecated. If you meant to do this, you must specify 'dtype=object' when creating the ndarray.\n",
            "  self._segments3d = np.asanyarray(segments)\n"
          ]
        },
        {
          "output_type": "display_data",
          "data": {
            "text/plain": [
              "<Figure size 576x576 with 1 Axes>"
            ],
            "image/png": "[encoded data removed]"
          },
          "metadata": {
            "needs_background": "light"
          }
        }
      ]
    },
    {
      "cell_type": "markdown",
      "metadata": {
        "id": "IagA2uPTWVQk"
      },
      "source": [
        "## 3.5 데이터 전처리\n",
        "다섯명의 신장과 체중 데이터를 사용한다.  \n",
        "1차 함수를 사용해 신장으로 체중을 예측하는 경우, 최적 직선을 구하는 것이 목적이다."
      ]
    },
    {
      "cell_type": "code",
      "metadata": {
        "id": "2cnCsxQTWVQk",
        "colab": {
          "base_uri": "https://localhost:8080/"
        },
        "outputId": "af3138de-76f6-4843-c92c-bb4304f58bb9"
      },
      "source": [
        "# 샘플 데이터 선언\n",
        "sampleData1 = np.array([\n",
        "    [166, 58.7],\n",
        "    [176.0, 75.7],\n",
        "    [171.0, 62.1],\n",
        "    [173.0, 70.4],\n",
        "    [169.0,60.1]\n",
        "])\n",
        "print(sampleData1)"
      ],
      "execution_count": 25,
      "outputs": [
        {
          "output_type": "stream",
          "name": "stdout",
          "text": [
            "[[166.   58.7]\n",
            " [176.   75.7]\n",
            " [171.   62.1]\n",
            " [173.   70.4]\n",
            " [169.   60.1]]\n"
          ]
        }
      ]
    },
    {
      "cell_type": "code",
      "metadata": {
        "id": "B6ie37XyWVQk"
      },
      "source": [
        "# 머신러닝 모델에서 사용하기 위해, 신장을 변수 x로,\n",
        "# 체중을 변수 y로 함\n",
        "\n",
        "x = sampleData1[:,0]\n",
        "y = sampleData1[:,1]"
      ],
      "execution_count": 26,
      "outputs": []
    },
    {
      "cell_type": "code",
      "metadata": {
        "id": "jTIpXh0AWVQl",
        "colab": {
          "base_uri": "https://localhost:8080/",
          "height": 585
        },
        "outputId": "4a3f6a50-35c2-47ce-f59a-01099ac1d18c"
      },
      "source": [
        "# 산포도 출력 확인\n",
        "\n",
        "plt.scatter(x,  y,  c='k',  s=50)\n",
        "plt.xlabel('$x$: 신장 (cm) ')\n",
        "plt.ylabel('$y$: 체중 (kg)')\n",
        "plt.title('신장과 체중의 관계')\n",
        "plt.show()"
      ],
      "execution_count": 27,
      "outputs": [
        {
          "output_type": "stream",
          "name": "stderr",
          "text": [
            "WARNING:matplotlib.mathtext:Font 'default' does not have a glyph for '\\uc2e0' [U+c2e0], substituting with a dummy symbol.\n",
            "WARNING:matplotlib.mathtext:Font 'default' does not have a glyph for '\\uc7a5' [U+c7a5], substituting with a dummy symbol.\n",
            "WARNING:matplotlib.mathtext:Font 'default' does not have a glyph for '\\uccb4' [U+ccb4], substituting with a dummy symbol.\n",
            "WARNING:matplotlib.mathtext:Font 'default' does not have a glyph for '\\uc911' [U+c911], substituting with a dummy symbol.\n",
            "WARNING:matplotlib.mathtext:Font 'default' does not have a glyph for '\\uc2e0' [U+c2e0], substituting with a dummy symbol.\n",
            "WARNING:matplotlib.mathtext:Font 'default' does not have a glyph for '\\uc7a5' [U+c7a5], substituting with a dummy symbol.\n",
            "WARNING:matplotlib.mathtext:Font 'default' does not have a glyph for '\\uccb4' [U+ccb4], substituting with a dummy symbol.\n",
            "WARNING:matplotlib.mathtext:Font 'default' does not have a glyph for '\\uc911' [U+c911], substituting with a dummy symbol.\n"
          ]
        },
        {
          "output_type": "display_data",
          "data": {
            "text/plain": [
              "<Figure size 432x432 with 1 Axes>"
            ],
            "image/png": "[encoded data removed]"
          },
          "metadata": {
            "needs_background": "light"
          }
        }
      ]
    },
    {
      "cell_type": "markdown",
      "metadata": {
        "id": "_234fjkjWVQl"
      },
      "source": [
        "### 데이터 변환\n",
        "머신러닝 모델에서 데이터는 0에 가까운 값을 갖는 것이 바람직하다.\n",
        "따라서, x, y 모두 평균값이 0이 되도록 평행이동시켜서 새로운 좌표계를 X, Y로 한다."
      ]
    },
    {
      "cell_type": "code",
      "metadata": {
        "id": "lCP56aC2WVQl"
      },
      "source": [
        "X = x - x.mean()\n",
        "Y = y - y.mean()"
      ],
      "execution_count": 28,
      "outputs": []
    },
    {
      "cell_type": "code",
      "metadata": {
        "id": "gKOh_PZcWVQl",
        "colab": {
          "base_uri": "https://localhost:8080/",
          "height": 416
        },
        "outputId": "ffda8b30-413d-4865-9707-ba18c8345ad3"
      },
      "source": [
        "# 산포도를 통해 결과 확인\n",
        "\n",
        "plt.scatter(X,  Y,  c='k',  s=50)\n",
        "plt.xlabel('$X$')\n",
        "plt.ylabel('$Y$')\n",
        "plt.title('데이터 가공 후 신장과 체중의 관계')\n",
        "plt.show()"
      ],
      "execution_count": 29,
      "outputs": [
        {
          "output_type": "display_data",
          "data": {
            "text/plain": [
              "<Figure size 432x432 with 1 Axes>"
            ],
            "image/png": "[encoded data removed]"
          },
          "metadata": {
            "needs_background": "light"
          }
        }
      ]
    },
    {
      "cell_type": "markdown",
      "metadata": {
        "id": "9z4qsfhFWVQm"
      },
      "source": [
        "## 3.6 예측 계산"
      ]
    },
    {
      "cell_type": "code",
      "metadata": {
        "id": "b9D0ASQnWVQm"
      },
      "source": [
        "# X와 Y를 텐서 변수로 변환\n",
        "\n",
        "X = torch.tensor(X).float()\n",
        "Y = torch.tensor(Y).float()"
      ],
      "execution_count": 30,
      "outputs": []
    },
    {
      "cell_type": "code",
      "metadata": {
        "id": "g9Fyxbb9WVQm",
        "colab": {
          "base_uri": "https://localhost:8080/"
        },
        "outputId": "7d704649-7393-4f32-9987-4bb1584150b5"
      },
      "source": [
        "# 결과 확인\n",
        "\n",
        "print(X)\n",
        "print(Y)"
      ],
      "execution_count": 31,
      "outputs": [
        {
          "output_type": "stream",
          "name": "stdout",
          "text": [
            "tensor([-5.,  5.,  0.,  2., -2.])\n",
            "tensor([-6.7000, 10.3000, -3.3000,  5.0000, -5.3000])\n"
          ]
        }
      ]
    },
    {
      "cell_type": "code",
      "metadata": {
        "id": "OVQNoaiPWVQm"
      },
      "source": [
        "# 파라미터 정의\n",
        "# W와 B는 경사 계산을 위해, requires_grad=True 로 설정함\n",
        "\n",
        "W = torch.tensor(1.0, requires_grad=True).float()\n",
        "B = torch.tensor(1.0, requires_grad=True).float()"
      ],
      "execution_count": 32,
      "outputs": []
    },
    {
      "cell_type": "code",
      "metadata": {
        "id": "q4HHhAmEWVQm"
      },
      "source": [
        "# 예측 함수는 1차 함수\n",
        "\n",
        "def pred(X):\n",
        "    return W * X + B"
      ],
      "execution_count": 33,
      "outputs": []
    },
    {
      "cell_type": "code",
      "metadata": {
        "id": "3xEp5gkLWVQm"
      },
      "source": [
        "# 예측 값 계산\n",
        "\n",
        "Yp =  pred(X)"
      ],
      "execution_count": 34,
      "outputs": []
    },
    {
      "cell_type": "code",
      "metadata": {
        "id": "bwhCnsfaWVQn",
        "colab": {
          "base_uri": "https://localhost:8080/"
        },
        "outputId": "92601b68-6f4c-4b14-c5d3-b2587f2e0384"
      },
      "source": [
        "# 결과 확인\n",
        "\n",
        "print(Yp)"
      ],
      "execution_count": 35,
      "outputs": [
        {
          "output_type": "stream",
          "name": "stdout",
          "text": [
            "tensor([-4.,  6.,  1.,  3., -1.], grad_fn=<AddBackward0>)\n"
          ]
        }
      ]
    },
    {
      "cell_type": "code",
      "metadata": {
        "id": "fZiEnFwGWVQn",
        "colab": {
          "base_uri": "https://localhost:8080/",
          "height": 395
        },
        "outputId": "a381ed22-7944-4ffd-8ebf-c3896c5e44e8"
      },
      "source": [
        "# 예측 값의 계산 그래프 표시\n",
        "\n",
        "params = {'W': W, 'B': B}\n",
        "g = make_dot(Yp, params=params)\n",
        "display(g)"
      ],
      "execution_count": 36,
      "outputs": [
        {
          "output_type": "display_data",
          "data": {
            "text/plain": [
              "<graphviz.dot.Digraph at 0x7fedd59a2910>"
            ],
            "image/svg+xml": "<?xml version=\"1.0\" encoding=\"UTF-8\" standalone=\"no\"?>\n<!DOCTYPE svg PUBLIC \"-//W3C//DTD SVG 1.1//EN\"\n \"http://www.w3.org/Graphics/SVG/1.1/DTD/svg11.dtd\">\n<!-- Generated by graphviz version 2.40.1 (20161225.0304)\n -->\n<!-- Title: %3 Pages: 1 -->\n<svg width=\"222pt\" height=\"281pt\"\n viewBox=\"0.00 0.00 222.00 281.00\" xmlns=\"http://www.w3.org/2000/svg\" xmlns:xlink=\"http://www.w3.org/1999/xlink\">\n<g id=\"graph0\" class=\"graph\" transform=\"scale(1 1) rotate(0) translate(4 277)\">\n<title>%3</title>\n<polygon fill=\"#ffffff\" stroke=\"transparent\" points=\"-4,4 -4,-277 218,-277 218,4 -4,4\"/>\n<!-- 140659468054160 -->\n<g id=\"node1\" class=\"node\">\n<title>140659468054160</title>\n<polygon fill=\"#caff70\" stroke=\"#000000\" points=\"133.5,-31 79.5,-31 79.5,0 133.5,0 133.5,-31\"/>\n<text text-anchor=\"middle\" x=\"106.5\" y=\"-7\" font-family=\"monospace\" font-size=\"10.00\" fill=\"#000000\"> (5)</text>\n</g>\n<!-- 140659467626896 -->\n<g id=\"node2\" class=\"node\">\n<title>140659467626896</title>\n<polygon fill=\"#d3d3d3\" stroke=\"#000000\" points=\"151,-86 62,-86 62,-67 151,-67 151,-86\"/>\n<text text-anchor=\"middle\" x=\"106.5\" y=\"-74\" font-family=\"monospace\" font-size=\"10.00\" fill=\"#000000\">AddBackward0</text>\n</g>\n<!-- 140659467626896&#45;&gt;140659468054160 -->\n<g id=\"edge6\" class=\"edge\">\n<title>140659467626896&#45;&gt;140659468054160</title>\n<path fill=\"none\" stroke=\"#000000\" d=\"M106.5,-66.9688C106.5,-60.1289 106.5,-50.5621 106.5,-41.5298\"/>\n<polygon fill=\"#000000\" stroke=\"#000000\" points=\"110.0001,-41.3678 106.5,-31.3678 103.0001,-41.3678 110.0001,-41.3678\"/>\n</g>\n<!-- 140659467626704 -->\n<g id=\"node3\" class=\"node\">\n<title>140659467626704</title>\n<polygon fill=\"#d3d3d3\" stroke=\"#000000\" points=\"95,-141 6,-141 6,-122 95,-122 95,-141\"/>\n<text text-anchor=\"middle\" x=\"50.5\" y=\"-129\" font-family=\"monospace\" font-size=\"10.00\" fill=\"#000000\">MulBackward0</text>\n</g>\n<!-- 140659467626704&#45;&gt;140659467626896 -->\n<g id=\"edge1\" class=\"edge\">\n<title>140659467626704&#45;&gt;140659467626896</title>\n<path fill=\"none\" stroke=\"#000000\" d=\"M60.2545,-121.9197C68.1865,-114.1293 79.5788,-102.9405 89.0712,-93.6176\"/>\n<polygon fill=\"#000000\" stroke=\"#000000\" points=\"91.7982,-95.845 96.4802,-86.3408 86.8932,-90.8509 91.7982,-95.845\"/>\n</g>\n<!-- 140659467626640 -->\n<g id=\"node4\" class=\"node\">\n<title>140659467626640</title>\n<polygon fill=\"#d3d3d3\" stroke=\"#000000\" points=\"101,-201.5 0,-201.5 0,-182.5 101,-182.5 101,-201.5\"/>\n<text text-anchor=\"middle\" x=\"50.5\" y=\"-189.5\" font-family=\"monospace\" font-size=\"10.00\" fill=\"#000000\">AccumulateGrad</text>\n</g>\n<!-- 140659467626640&#45;&gt;140659467626704 -->\n<g id=\"edge2\" class=\"edge\">\n<title>140659467626640&#45;&gt;140659467626704</title>\n<path fill=\"none\" stroke=\"#000000\" d=\"M50.5,-182.2796C50.5,-174.0376 50.5,-161.9457 50.5,-151.629\"/>\n<polygon fill=\"#000000\" stroke=\"#000000\" points=\"54.0001,-151.3972 50.5,-141.3972 47.0001,-151.3973 54.0001,-151.3972\"/>\n</g>\n<!-- 140659467624080 -->\n<g id=\"node5\" class=\"node\">\n<title>140659467624080</title>\n<polygon fill=\"#add8e6\" stroke=\"#000000\" points=\"77.5,-273 23.5,-273 23.5,-243 77.5,-243 77.5,-273\"/>\n<text text-anchor=\"middle\" x=\"50.5\" y=\"-261\" font-family=\"monospace\" font-size=\"10.00\" fill=\"#000000\">W</text>\n<text text-anchor=\"middle\" x=\"50.5\" y=\"-250\" font-family=\"monospace\" font-size=\"10.00\" fill=\"#000000\"> ()</text>\n</g>\n<!-- 140659467624080&#45;&gt;140659467626640 -->\n<g id=\"edge3\" class=\"edge\">\n<title>140659467624080&#45;&gt;140659467626640</title>\n<path fill=\"none\" stroke=\"#000000\" d=\"M50.5,-242.6924C50.5,-233.5067 50.5,-221.7245 50.5,-211.8312\"/>\n<polygon fill=\"#000000\" stroke=\"#000000\" points=\"54.0001,-211.703 50.5,-201.7031 47.0001,-211.7031 54.0001,-211.703\"/>\n</g>\n<!-- 140659467627024 -->\n<g id=\"node6\" class=\"node\">\n<title>140659467627024</title>\n<polygon fill=\"#d3d3d3\" stroke=\"#000000\" points=\"214,-141 113,-141 113,-122 214,-122 214,-141\"/>\n<text text-anchor=\"middle\" x=\"163.5\" y=\"-129\" font-family=\"monospace\" font-size=\"10.00\" fill=\"#000000\">AccumulateGrad</text>\n</g>\n<!-- 140659467627024&#45;&gt;140659467626896 -->\n<g id=\"edge4\" class=\"edge\">\n<title>140659467627024&#45;&gt;140659467626896</title>\n<path fill=\"none\" stroke=\"#000000\" d=\"M153.5714,-121.9197C145.4169,-114.0514 133.6697,-102.7164 123.9508,-93.3385\"/>\n<polygon fill=\"#000000\" stroke=\"#000000\" points=\"126.3252,-90.7659 116.6987,-86.3408 121.4646,-95.8032 126.3252,-90.7659\"/>\n</g>\n<!-- 140659466882224 -->\n<g id=\"node7\" class=\"node\">\n<title>140659466882224</title>\n<polygon fill=\"#add8e6\" stroke=\"#000000\" points=\"190.5,-207 136.5,-207 136.5,-177 190.5,-177 190.5,-207\"/>\n<text text-anchor=\"middle\" x=\"163.5\" y=\"-195\" font-family=\"monospace\" font-size=\"10.00\" fill=\"#000000\">B</text>\n<text text-anchor=\"middle\" x=\"163.5\" y=\"-184\" font-family=\"monospace\" font-size=\"10.00\" fill=\"#000000\"> ()</text>\n</g>\n<!-- 140659466882224&#45;&gt;140659467627024 -->\n<g id=\"edge5\" class=\"edge\">\n<title>140659466882224&#45;&gt;140659467627024</title>\n<path fill=\"none\" stroke=\"#000000\" d=\"M163.5,-176.7333C163.5,-169.0322 163.5,-159.5977 163.5,-151.3414\"/>\n<polygon fill=\"#000000\" stroke=\"#000000\" points=\"167.0001,-151.0864 163.5,-141.0864 160.0001,-151.0864 167.0001,-151.0864\"/>\n</g>\n</g>\n</svg>\n"
          },
          "metadata": {}
        }
      ]
    },
    {
      "cell_type": "markdown",
      "metadata": {
        "id": "oCQtvOFIWVQn"
      },
      "source": [
        "## 3.7 손실 계산"
      ]
    },
    {
      "cell_type": "code",
      "metadata": {
        "id": "cF2BCiT8WVQn"
      },
      "source": [
        "# 평균 제곱 오차 손실함수\n",
        "\n",
        "def mse(Yp, Y):\n",
        "    loss = ((Yp - Y) ** 2).mean()\n",
        "    return loss"
      ],
      "execution_count": 37,
      "outputs": []
    },
    {
      "cell_type": "code",
      "metadata": {
        "id": "x3kkCiw3WVQo"
      },
      "source": [
        "# 손실 계산\n",
        "\n",
        "loss = mse(Yp, Y)"
      ],
      "execution_count": 38,
      "outputs": []
    },
    {
      "cell_type": "code",
      "metadata": {
        "id": "1on3xqQOWVQo",
        "colab": {
          "base_uri": "https://localhost:8080/"
        },
        "outputId": "403c00ea-0f1c-4932-8bf0-380583ea3a1f"
      },
      "source": [
        "# 결과 표시\n",
        "\n",
        "print(loss)"
      ],
      "execution_count": 39,
      "outputs": [
        {
          "output_type": "stream",
          "name": "stdout",
          "text": [
            "tensor(13.3520, grad_fn=<MeanBackward0>)\n"
          ]
        }
      ]
    },
    {
      "cell_type": "code",
      "metadata": {
        "id": "zMX3tYAgWVQo",
        "colab": {
          "base_uri": "https://localhost:8080/",
          "height": 615
        },
        "outputId": "6160b7d8-5805-424c-ffd0-3faaae879dd7"
      },
      "source": [
        "# 손실 계산 그래프 출력 // 예측 함수 + 손실 함수 = 손실\n",
        "\n",
        "params = {'W': W, 'B': B}\n",
        "g = make_dot(loss, params=params)\n",
        "display(g)"
      ],
      "execution_count": 40,
      "outputs": [
        {
          "output_type": "display_data",
          "data": {
            "text/plain": [
              "<graphviz.dot.Digraph at 0x7fedd58a9110>"
            ],
            "image/svg+xml": "<?xml version=\"1.0\" encoding=\"UTF-8\" standalone=\"no\"?>\n<!DOCTYPE svg PUBLIC \"-//W3C//DTD SVG 1.1//EN\"\n \"http://www.w3.org/Graphics/SVG/1.1/DTD/svg11.dtd\">\n<!-- Generated by graphviz version 2.40.1 (20161225.0304)\n -->\n<!-- Title: %3 Pages: 1 -->\n<svg width=\"222pt\" height=\"446pt\"\n viewBox=\"0.00 0.00 222.00 446.00\" xmlns=\"http://www.w3.org/2000/svg\" xmlns:xlink=\"http://www.w3.org/1999/xlink\">\n<g id=\"graph0\" class=\"graph\" transform=\"scale(1 1) rotate(0) translate(4 442)\">\n<title>%3</title>\n<polygon fill=\"#ffffff\" stroke=\"transparent\" points=\"-4,4 -4,-442 218,-442 218,4 -4,4\"/>\n<!-- 140659466650640 -->\n<g id=\"node1\" class=\"node\">\n<title>140659466650640</title>\n<polygon fill=\"#caff70\" stroke=\"#000000\" points=\"133.5,-31 79.5,-31 79.5,0 133.5,0 133.5,-31\"/>\n<text text-anchor=\"middle\" x=\"106.5\" y=\"-7\" font-family=\"monospace\" font-size=\"10.00\" fill=\"#000000\"> ()</text>\n</g>\n<!-- 140659466604944 -->\n<g id=\"node2\" class=\"node\">\n<title>140659466604944</title>\n<polygon fill=\"#d3d3d3\" stroke=\"#000000\" points=\"154,-86 59,-86 59,-67 154,-67 154,-86\"/>\n<text text-anchor=\"middle\" x=\"106.5\" y=\"-74\" font-family=\"monospace\" font-size=\"10.00\" fill=\"#000000\">MeanBackward0</text>\n</g>\n<!-- 140659466604944&#45;&gt;140659466650640 -->\n<g id=\"edge9\" class=\"edge\">\n<title>140659466604944&#45;&gt;140659466650640</title>\n<path fill=\"none\" stroke=\"#000000\" d=\"M106.5,-66.9688C106.5,-60.1289 106.5,-50.5621 106.5,-41.5298\"/>\n<polygon fill=\"#000000\" stroke=\"#000000\" points=\"110.0001,-41.3678 106.5,-31.3678 103.0001,-41.3678 110.0001,-41.3678\"/>\n</g>\n<!-- 140659466604752 -->\n<g id=\"node3\" class=\"node\">\n<title>140659466604752</title>\n<polygon fill=\"#d3d3d3\" stroke=\"#000000\" points=\"151,-141 62,-141 62,-122 151,-122 151,-141\"/>\n<text text-anchor=\"middle\" x=\"106.5\" y=\"-129\" font-family=\"monospace\" font-size=\"10.00\" fill=\"#000000\">PowBackward0</text>\n</g>\n<!-- 140659466604752&#45;&gt;140659466604944 -->\n<g id=\"edge1\" class=\"edge\">\n<title>140659466604752&#45;&gt;140659466604944</title>\n<path fill=\"none\" stroke=\"#000000\" d=\"M106.5,-121.9197C106.5,-114.9083 106.5,-105.1442 106.5,-96.4652\"/>\n<polygon fill=\"#000000\" stroke=\"#000000\" points=\"110.0001,-96.3408 106.5,-86.3408 103.0001,-96.3409 110.0001,-96.3408\"/>\n</g>\n<!-- 140659466605008 -->\n<g id=\"node4\" class=\"node\">\n<title>140659466605008</title>\n<polygon fill=\"#d3d3d3\" stroke=\"#000000\" points=\"151,-196 62,-196 62,-177 151,-177 151,-196\"/>\n<text text-anchor=\"middle\" x=\"106.5\" y=\"-184\" font-family=\"monospace\" font-size=\"10.00\" fill=\"#000000\">SubBackward0</text>\n</g>\n<!-- 140659466605008&#45;&gt;140659466604752 -->\n<g id=\"edge2\" class=\"edge\">\n<title>140659466605008&#45;&gt;140659466604752</title>\n<path fill=\"none\" stroke=\"#000000\" d=\"M106.5,-176.9197C106.5,-169.9083 106.5,-160.1442 106.5,-151.4652\"/>\n<polygon fill=\"#000000\" stroke=\"#000000\" points=\"110.0001,-151.3408 106.5,-141.3408 103.0001,-151.3409 110.0001,-151.3408\"/>\n</g>\n<!-- 140659467626896 -->\n<g id=\"node5\" class=\"node\">\n<title>140659467626896</title>\n<polygon fill=\"#d3d3d3\" stroke=\"#000000\" points=\"151,-251 62,-251 62,-232 151,-232 151,-251\"/>\n<text text-anchor=\"middle\" x=\"106.5\" y=\"-239\" font-family=\"monospace\" font-size=\"10.00\" fill=\"#000000\">AddBackward0</text>\n</g>\n<!-- 140659467626896&#45;&gt;140659466605008 -->\n<g id=\"edge3\" class=\"edge\">\n<title>140659467626896&#45;&gt;140659466605008</title>\n<path fill=\"none\" stroke=\"#000000\" d=\"M106.5,-231.9197C106.5,-224.9083 106.5,-215.1442 106.5,-206.4652\"/>\n<polygon fill=\"#000000\" stroke=\"#000000\" points=\"110.0001,-206.3408 106.5,-196.3408 103.0001,-206.3409 110.0001,-206.3408\"/>\n</g>\n<!-- 140659467626704 -->\n<g id=\"node6\" class=\"node\">\n<title>140659467626704</title>\n<polygon fill=\"#d3d3d3\" stroke=\"#000000\" points=\"95,-306 6,-306 6,-287 95,-287 95,-306\"/>\n<text text-anchor=\"middle\" x=\"50.5\" y=\"-294\" font-family=\"monospace\" font-size=\"10.00\" fill=\"#000000\">MulBackward0</text>\n</g>\n<!-- 140659467626704&#45;&gt;140659467626896 -->\n<g id=\"edge4\" class=\"edge\">\n<title>140659467626704&#45;&gt;140659467626896</title>\n<path fill=\"none\" stroke=\"#000000\" d=\"M60.2545,-286.9197C68.1865,-279.1293 79.5788,-267.9405 89.0712,-258.6176\"/>\n<polygon fill=\"#000000\" stroke=\"#000000\" points=\"91.7982,-260.845 96.4802,-251.3408 86.8932,-255.8509 91.7982,-260.845\"/>\n</g>\n<!-- 140659467626640 -->\n<g id=\"node7\" class=\"node\">\n<title>140659467626640</title>\n<polygon fill=\"#d3d3d3\" stroke=\"#000000\" points=\"101,-366.5 0,-366.5 0,-347.5 101,-347.5 101,-366.5\"/>\n<text text-anchor=\"middle\" x=\"50.5\" y=\"-354.5\" font-family=\"monospace\" font-size=\"10.00\" fill=\"#000000\">AccumulateGrad</text>\n</g>\n<!-- 140659467626640&#45;&gt;140659467626704 -->\n<g id=\"edge5\" class=\"edge\">\n<title>140659467626640&#45;&gt;140659467626704</title>\n<path fill=\"none\" stroke=\"#000000\" d=\"M50.5,-347.2796C50.5,-339.0376 50.5,-326.9457 50.5,-316.629\"/>\n<polygon fill=\"#000000\" stroke=\"#000000\" points=\"54.0001,-316.3972 50.5,-306.3972 47.0001,-316.3973 54.0001,-316.3972\"/>\n</g>\n<!-- 140659467624080 -->\n<g id=\"node8\" class=\"node\">\n<title>140659467624080</title>\n<polygon fill=\"#add8e6\" stroke=\"#000000\" points=\"77.5,-438 23.5,-438 23.5,-408 77.5,-408 77.5,-438\"/>\n<text text-anchor=\"middle\" x=\"50.5\" y=\"-426\" font-family=\"monospace\" font-size=\"10.00\" fill=\"#000000\">W</text>\n<text text-anchor=\"middle\" x=\"50.5\" y=\"-415\" font-family=\"monospace\" font-size=\"10.00\" fill=\"#000000\"> ()</text>\n</g>\n<!-- 140659467624080&#45;&gt;140659467626640 -->\n<g id=\"edge6\" class=\"edge\">\n<title>140659467624080&#45;&gt;140659467626640</title>\n<path fill=\"none\" stroke=\"#000000\" d=\"M50.5,-407.6924C50.5,-398.5067 50.5,-386.7245 50.5,-376.8312\"/>\n<polygon fill=\"#000000\" stroke=\"#000000\" points=\"54.0001,-376.703 50.5,-366.7031 47.0001,-376.7031 54.0001,-376.703\"/>\n</g>\n<!-- 140659467627024 -->\n<g id=\"node9\" class=\"node\">\n<title>140659467627024</title>\n<polygon fill=\"#d3d3d3\" stroke=\"#000000\" points=\"214,-306 113,-306 113,-287 214,-287 214,-306\"/>\n<text text-anchor=\"middle\" x=\"163.5\" y=\"-294\" font-family=\"monospace\" font-size=\"10.00\" fill=\"#000000\">AccumulateGrad</text>\n</g>\n<!-- 140659467627024&#45;&gt;140659467626896 -->\n<g id=\"edge7\" class=\"edge\">\n<title>140659467627024&#45;&gt;140659467626896</title>\n<path fill=\"none\" stroke=\"#000000\" d=\"M153.5714,-286.9197C145.4169,-279.0514 133.6697,-267.7164 123.9508,-258.3385\"/>\n<polygon fill=\"#000000\" stroke=\"#000000\" points=\"126.3252,-255.7659 116.6987,-251.3408 121.4646,-260.8032 126.3252,-255.7659\"/>\n</g>\n<!-- 140659466882224 -->\n<g id=\"node10\" class=\"node\">\n<title>140659466882224</title>\n<polygon fill=\"#add8e6\" stroke=\"#000000\" points=\"190.5,-372 136.5,-372 136.5,-342 190.5,-342 190.5,-372\"/>\n<text text-anchor=\"middle\" x=\"163.5\" y=\"-360\" font-family=\"monospace\" font-size=\"10.00\" fill=\"#000000\">B</text>\n<text text-anchor=\"middle\" x=\"163.5\" y=\"-349\" font-family=\"monospace\" font-size=\"10.00\" fill=\"#000000\"> ()</text>\n</g>\n<!-- 140659466882224&#45;&gt;140659467627024 -->\n<g id=\"edge8\" class=\"edge\">\n<title>140659466882224&#45;&gt;140659467627024</title>\n<path fill=\"none\" stroke=\"#000000\" d=\"M163.5,-341.7333C163.5,-334.0322 163.5,-324.5977 163.5,-316.3414\"/>\n<polygon fill=\"#000000\" stroke=\"#000000\" points=\"167.0001,-316.0864 163.5,-306.0864 160.0001,-316.0864 167.0001,-316.0864\"/>\n</g>\n</g>\n</svg>\n"
          },
          "metadata": {}
        }
      ]
    },
    {
      "cell_type": "markdown",
      "metadata": {
        "id": "txlLD4dzWVQo"
      },
      "source": [
        "## 3.8 경사 계산"
      ]
    },
    {
      "cell_type": "code",
      "metadata": {
        "id": "mu7g47KbWVQo"
      },
      "source": [
        "# 경사 계산\n",
        "\n",
        "loss.backward()"
      ],
      "execution_count": 41,
      "outputs": []
    },
    {
      "cell_type": "code",
      "metadata": {
        "id": "2D-kcOFsWVQo",
        "colab": {
          "base_uri": "https://localhost:8080/"
        },
        "outputId": "d0593b69-b2a2-4e96-cff6-a5f8052dcaf1"
      },
      "source": [
        "# 경삿값 확인\n",
        "\n",
        "print(W.grad)\n",
        "print(B.grad)"
      ],
      "execution_count": 42,
      "outputs": [
        {
          "output_type": "stream",
          "name": "stdout",
          "text": [
            "tensor(-19.0400)\n",
            "tensor(2.0000)\n"
          ]
        }
      ]
    },
    {
      "cell_type": "markdown",
      "metadata": {
        "id": "KZhFz91XWVQp"
      },
      "source": [
        "## 3.9 파라미터 수정"
      ]
    },
    {
      "cell_type": "code",
      "metadata": {
        "id": "x6MvVkl2WVQp"
      },
      "source": [
        "# 학습률 정의\n",
        "\n",
        "lr = 0.001"
      ],
      "execution_count": 43,
      "outputs": []
    },
    {
      "cell_type": "code",
      "metadata": {
        "id": "0AUYCS2zWVQp",
        "colab": {
          "base_uri": "https://localhost:8080/",
          "height": 229
        },
        "outputId": "ef7d7328-0887-4cd0-a645-71c76ff06906"
      },
      "source": [
        "#  경사를 기반으로 파라미터 수정\n",
        "\n",
        "W -= lr * W.grad # 변수(W,B)는 외부에 영향을 끼치므로 마음대로 값을 수정할 수 없음\n",
        "B -= lr * B.grad"
      ],
      "execution_count": 44,
      "outputs": [
        {
          "output_type": "error",
          "ename": "RuntimeError",
          "evalue": "ignored",
          "traceback": [
            "\u001b[0;31m---------------------------------------------------------------------------\u001b[0m",
            "\u001b[0;31mRuntimeError\u001b[0m                              Traceback (most recent call last)",
            "\u001b[0;32m<ipython-input-44-36c6eb094cc9>\u001b[0m in \u001b[0;36m<module>\u001b[0;34m\u001b[0m\n\u001b[1;32m      1\u001b[0m \u001b[0;31m#  경사를 기반으로 파라미터 수정\u001b[0m\u001b[0;34m\u001b[0m\u001b[0;34m\u001b[0m\u001b[0;34m\u001b[0m\u001b[0m\n\u001b[1;32m      2\u001b[0m \u001b[0;34m\u001b[0m\u001b[0m\n\u001b[0;32m----> 3\u001b[0;31m \u001b[0mW\u001b[0m \u001b[0;34m-=\u001b[0m \u001b[0mlr\u001b[0m \u001b[0;34m*\u001b[0m \u001b[0mW\u001b[0m\u001b[0;34m.\u001b[0m\u001b[0mgrad\u001b[0m\u001b[0;34m\u001b[0m\u001b[0;34m\u001b[0m\u001b[0m\n\u001b[0m\u001b[1;32m      4\u001b[0m \u001b[0mB\u001b[0m \u001b[0;34m-=\u001b[0m \u001b[0mlr\u001b[0m \u001b[0;34m*\u001b[0m \u001b[0mB\u001b[0m\u001b[0;34m.\u001b[0m\u001b[0mgrad\u001b[0m\u001b[0;34m\u001b[0m\u001b[0;34m\u001b[0m\u001b[0m\n",
            "\u001b[0;31mRuntimeError\u001b[0m: a leaf Variable that requires grad is being used in an in-place operation."
          ]
        }
      ]
    },
    {
      "cell_type": "markdown",
      "metadata": {
        "id": "jZKWqFp3WVQp"
      },
      "source": [
        "W와 B는 한번 계산이 끝났기 때문에, 이 상태로 값의 갱신은 불가능하다.\n",
        "따라서, 다음과 같이 수정해야 한다."
      ]
    },
    {
      "cell_type": "code",
      "metadata": {
        "id": "mWA2IVKjWVQp"
      },
      "source": [
        "# 경사를 기반으로 파라미터 수정\n",
        "# with torch.no_grad() 작성 필요\n",
        "# 일시적으로 계산 그래프 생성 기능이 작동하지 않음. 변수를 수정할 수 있음\n",
        "\n",
        "with torch.no_grad():\n",
        "    W -= lr * W.grad\n",
        "    B -= lr * B.grad\n",
        "    \n",
        "    # 계산이 끝난 경삿값을 초기화함\n",
        "    W.grad.zero_()\n",
        "    B.grad.zero_()"
      ],
      "execution_count": 45,
      "outputs": []
    },
    {
      "cell_type": "code",
      "metadata": {
        "id": "35hOEh7nWVQp",
        "colab": {
          "base_uri": "https://localhost:8080/"
        },
        "outputId": "f5d5ba62-43d2-4fe2-c638-fcd770e6cdb0"
      },
      "source": [
        "# 파라미터 경삿값 확인\n",
        "\n",
        "print(W)\n",
        "print(B)\n",
        "print(W.grad)\n",
        "print(B.grad)"
      ],
      "execution_count": 46,
      "outputs": [
        {
          "output_type": "stream",
          "name": "stdout",
          "text": [
            "tensor(1.0190, requires_grad=True)\n",
            "tensor(0.9980, requires_grad=True)\n",
            "tensor(0.)\n",
            "tensor(0.)\n"
          ]
        }
      ]
    },
    {
      "cell_type": "markdown",
      "metadata": {
        "id": "Q65yjJyaWVQq"
      },
      "source": [
        "원래 값은 모두 1.0이기 때문에, W는 미소량이 증가, B는 미소량이 감소했음을 확인할 수 있다.\n",
        "이 계산을 반복해서 최적의 W와 B를 구하는 것이 경사 하강법이다."
      ]
    },
    {
      "cell_type": "markdown",
      "metadata": {
        "id": "gOEcs_OEWVQq"
      },
      "source": [
        "## 3.10 반복 계산"
      ]
    },
    {
      "cell_type": "code",
      "metadata": {
        "id": "EGJHgK6QWVQq"
      },
      "source": [
        "# 초기화\n",
        "\n",
        "# W와 B를 변수로 사용\n",
        "W = torch.tensor(1.0, requires_grad=True).float()\n",
        "B = torch.tensor(1.0, requires_grad=True).float()\n",
        "\n",
        "# 반복 횟수\n",
        "num_epochs = 500\n",
        "\n",
        "# 학습률\n",
        "lr = 0.001\n",
        "\n",
        "# history 기록을 위한 배열 초기화\n",
        "history = np.zeros((0, 2))"
      ],
      "execution_count": 47,
      "outputs": []
    },
    {
      "cell_type": "code",
      "metadata": {
        "scrolled": true,
        "id": "2hKkaSI0WVQq",
        "colab": {
          "base_uri": "https://localhost:8080/"
        },
        "outputId": "329b1b0b-4839-494b-a55b-870d848ccb01"
      },
      "source": [
        "# 루프 처리\n",
        "\n",
        "for epoch in range(num_epochs):\n",
        "\n",
        "    # 예측 계산\n",
        "    Yp = pred(X)\n",
        "    \n",
        "    # 손실 계산\n",
        "    loss = mse(Yp, Y)\n",
        "    \n",
        "    # 경사 계산\n",
        "    loss.backward()\n",
        "    \n",
        "    with torch.no_grad():\n",
        "        # 파라미터 수정\n",
        "        W -= lr * W.grad\n",
        "        B -= lr * B.grad\n",
        "        \n",
        "        # 경삿값 초기화\n",
        "        W.grad.zero_()\n",
        "        B.grad.zero_()\n",
        "        \n",
        "    # 손실 기록\n",
        "    if (epoch %10 == 0):\n",
        "        item = np.array([epoch, loss.item()])\n",
        "        history = np.vstack((history, item))\n",
        "        print(f'epoch = {epoch}  loss = {loss:.4f}')"
      ],
      "execution_count": 48,
      "outputs": [
        {
          "output_type": "stream",
          "name": "stdout",
          "text": [
            "epoch = 0  loss = 13.3520\n",
            "epoch = 10  loss = 10.3855\n",
            "epoch = 20  loss = 8.5173\n",
            "epoch = 30  loss = 7.3364\n",
            "epoch = 40  loss = 6.5858\n",
            "epoch = 50  loss = 6.1047\n",
            "epoch = 60  loss = 5.7927\n",
            "epoch = 70  loss = 5.5868\n",
            "epoch = 80  loss = 5.4476\n",
            "epoch = 90  loss = 5.3507\n",
            "epoch = 100  loss = 5.2805\n",
            "epoch = 110  loss = 5.2275\n",
            "epoch = 120  loss = 5.1855\n",
            "epoch = 130  loss = 5.1507\n",
            "epoch = 140  loss = 5.1208\n",
            "epoch = 150  loss = 5.0943\n",
            "epoch = 160  loss = 5.0703\n",
            "epoch = 170  loss = 5.0480\n",
            "epoch = 180  loss = 5.0271\n",
            "epoch = 190  loss = 5.0074\n",
            "epoch = 200  loss = 4.9887\n",
            "epoch = 210  loss = 4.9708\n",
            "epoch = 220  loss = 4.9537\n",
            "epoch = 230  loss = 4.9373\n",
            "epoch = 240  loss = 4.9217\n",
            "epoch = 250  loss = 4.9066\n",
            "epoch = 260  loss = 4.8922\n",
            "epoch = 270  loss = 4.8783\n",
            "epoch = 280  loss = 4.8650\n",
            "epoch = 290  loss = 4.8522\n",
            "epoch = 300  loss = 4.8399\n",
            "epoch = 310  loss = 4.8281\n",
            "epoch = 320  loss = 4.8167\n",
            "epoch = 330  loss = 4.8058\n",
            "epoch = 340  loss = 4.7953\n",
            "epoch = 350  loss = 4.7853\n",
            "epoch = 360  loss = 4.7756\n",
            "epoch = 370  loss = 4.7663\n",
            "epoch = 380  loss = 4.7574\n",
            "epoch = 390  loss = 4.7488\n",
            "epoch = 400  loss = 4.7406\n",
            "epoch = 410  loss = 4.7327\n",
            "epoch = 420  loss = 4.7251\n",
            "epoch = 430  loss = 4.7178\n",
            "epoch = 440  loss = 4.7108\n",
            "epoch = 450  loss = 4.7040\n",
            "epoch = 460  loss = 4.6976\n",
            "epoch = 470  loss = 4.6913\n",
            "epoch = 480  loss = 4.6854\n",
            "epoch = 490  loss = 4.6796\n"
          ]
        }
      ]
    },
    {
      "cell_type": "markdown",
      "metadata": {
        "id": "cPLhlv-1WVQr"
      },
      "source": [
        "## 3.11 결과 평가"
      ]
    },
    {
      "cell_type": "code",
      "metadata": {
        "id": "Brcug2NCWVQr",
        "colab": {
          "base_uri": "https://localhost:8080/"
        },
        "outputId": "7a7efd58-32f0-457d-bc8c-b1efedc5bc3c"
      },
      "source": [
        "# 최종 파라미터 값\n",
        "print('W = ', W.data.numpy())\n",
        "print('B = ', B.data.numpy())\n",
        "\n",
        "# 손실 확인\n",
        "print(f'초기상태 : 손실:{history[0,1]:.4f}') \n",
        "print(f'최종상태 : 손실:{history[-1,1]:.4f}') "
      ],
      "execution_count": 49,
      "outputs": [
        {
          "output_type": "stream",
          "name": "stdout",
          "text": [
            "W =  1.820683\n",
            "B =  0.3675114\n",
            "초기상태 : 손실:13.3520\n",
            "최종상태 : 손실:4.6796\n"
          ]
        }
      ]
    },
    {
      "cell_type": "code",
      "metadata": {
        "id": "i3FiFYspWVQr",
        "colab": {
          "base_uri": "https://localhost:8080/",
          "height": 416
        },
        "outputId": "20e6c4b1-1d50-40d1-b93c-045c579c0841"
      },
      "source": [
        "# 학습 곡선 출력(손실)\n",
        "\n",
        "plt.plot(history[:,0], history[:,1], 'b')\n",
        "plt.xlabel('반복 횟수')\n",
        "plt.ylabel('손실')\n",
        "plt.title('학습 곡선(손실)')\n",
        "plt.show()"
      ],
      "execution_count": 50,
      "outputs": [
        {
          "output_type": "display_data",
          "data": {
            "text/plain": [
              "<Figure size 432x432 with 1 Axes>"
            ],
            "image/png": "[encoded data removed]"
          },
          "metadata": {
            "needs_background": "light"
          }
        }
      ]
    },
    {
      "cell_type": "markdown",
      "metadata": {
        "id": "iPiwKDduWVQr"
      },
      "source": [
        "### 산포도에 회귀 직선을 동시에 출력함"
      ]
    },
    {
      "cell_type": "code",
      "metadata": {
        "id": "dn2ArxQqWVQr",
        "colab": {
          "base_uri": "https://localhost:8080/"
        },
        "outputId": "d8d45269-cb20-4315-eb87-e094342cff22"
      },
      "source": [
        "# x의 범위를 구함(Xrange)\n",
        "X_max = X.max()\n",
        "X_min = X.min()\n",
        "X_range = np.array((X_min, X_max))\n",
        "X_range = torch.from_numpy(X_range).float()\n",
        "print(X_range)\n",
        "\n",
        "# 이와 대응하는 예측값 y를 구함\n",
        "Y_range = pred(X_range)\n",
        "print(Y_range.data)"
      ],
      "execution_count": 51,
      "outputs": [
        {
          "output_type": "stream",
          "name": "stdout",
          "text": [
            "tensor([-5.,  5.])\n",
            "tensor([-8.7359,  9.4709])\n"
          ]
        }
      ]
    },
    {
      "cell_type": "code",
      "metadata": {
        "id": "WvXDYaK5WVQr",
        "colab": {
          "base_uri": "https://localhost:8080/",
          "height": 416
        },
        "outputId": "ab74182d-e0ea-4595-ccc6-1e7919046330"
      },
      "source": [
        "# 그래프 출력\n",
        "\n",
        "plt.scatter(X,  Y,  c='k',  s=50)\n",
        "plt.xlabel('$X$')\n",
        "plt.ylabel('$Y$')\n",
        "plt.plot(X_range.data, Y_range.data, lw=2, c='b')\n",
        "plt.title('신장과 체중의 상관 직선(가공 후)')\n",
        "plt.show()"
      ],
      "execution_count": 52,
      "outputs": [
        {
          "output_type": "display_data",
          "data": {
            "text/plain": [
              "<Figure size 432x432 with 1 Axes>"
            ],
            "image/png": "[encoded data removed]"
          },
          "metadata": {
            "needs_background": "light"
          }
        }
      ]
    },
    {
      "cell_type": "markdown",
      "metadata": {
        "id": "xmt4XrNbWVQs"
      },
      "source": [
        "### 가공 전 데이터로 회귀 직선 출력"
      ]
    },
    {
      "cell_type": "code",
      "metadata": {
        "id": "aFlvzzxaWVQs"
      },
      "source": [
        "# y좌표와 x좌표 값 계산\n",
        "\n",
        "x_range = X_range + x.mean()\n",
        "yp_range = Y_range + y.mean()"
      ],
      "execution_count": 53,
      "outputs": []
    },
    {
      "cell_type": "code",
      "metadata": {
        "id": "jjbHJh7cWVQs",
        "colab": {
          "base_uri": "https://localhost:8080/",
          "height": 416
        },
        "outputId": "57520aa6-38a6-4b71-a378-a8b61a778fff"
      },
      "source": [
        "# 그래프 출력\n",
        "\n",
        "plt.scatter(x,  y,  c='k',  s=50)\n",
        "plt.xlabel('$x$')\n",
        "plt.ylabel('$y$')\n",
        "plt.plot(x_range, yp_range.data, lw=2, c='b')\n",
        "plt.title('신장과 체중의 상관 직선(가공 전)')\n",
        "plt.show()"
      ],
      "execution_count": 54,
      "outputs": [
        {
          "output_type": "display_data",
          "data": {
            "text/plain": [
              "<Figure size 432x432 with 1 Axes>"
            ],
            "image/png": "[encoded data removed]"
          },
          "metadata": {
            "needs_background": "light"
          }
        }
      ]
    },
    {
      "cell_type": "markdown",
      "metadata": {
        "id": "jbY0y976WVQs"
      },
      "source": [
        "## 3.12 최적화 함수와 step 함수 이용하기"
      ]
    },
    {
      "cell_type": "code",
      "metadata": {
        "id": "MFBuUEHgWVQs"
      },
      "source": [
        "# 초기화\n",
        "\n",
        "# W와 B를 변수로 사용\n",
        "W = torch.tensor(1.0, requires_grad=True).float()\n",
        "B = torch.tensor(1.0, requires_grad=True).float()\n",
        "\n",
        "# 반복 횟수\n",
        "num_epochs = 500\n",
        "\n",
        "# 학습률\n",
        "lr = 0.001\n",
        "\n",
        "# optimizer 로 SGD(확률적 경사 하강법)을 사용 \n",
        "# optimizer '최적화 함수' 반복 계산 시 주로 사용\n",
        "import torch.optim as optim\n",
        "optimizer = optim.SGD([W, B], lr=lr)\n",
        "\n",
        "# history 기록을 위한 배열 초기화\n",
        "history = np.zeros((0, 2))"
      ],
      "execution_count": 56,
      "outputs": []
    },
    {
      "cell_type": "code",
      "metadata": {
        "id": "DQRx7YQuWVQs",
        "colab": {
          "base_uri": "https://localhost:8080/"
        },
        "outputId": "d3973e40-2885-4bcc-bda1-51e4a36c342c"
      },
      "source": [
        "# 루프 처리\n",
        "\n",
        "for epoch in range(num_epochs):\n",
        "\n",
        "    # 예측 계산\n",
        "    Yp = pred(X)\n",
        "    \n",
        "    # 손실 계산\n",
        "    loss = mse(Yp, Y)\n",
        "\n",
        "    # 경사 계산\n",
        "    loss.backward()\n",
        "##\n",
        "    # 파라미터 수정\n",
        "    optimizer.step()\n",
        "    \n",
        "    # 경삿값 초기화\n",
        "    optimizer.zero_grad()\n",
        "##    \n",
        "# 최적화 함수를 이용해 파라미터 값을 간접적으로 변경하는 부분    \n",
        "    # 손실 기록\n",
        "    if (epoch %10 == 0):\n",
        "        item = np.array([epoch, loss.item()])\n",
        "        history = np.vstack((history, item))\n",
        "        print(f'epoch = {epoch}  loss = {loss:.4f}')"
      ],
      "execution_count": 57,
      "outputs": [
        {
          "output_type": "stream",
          "name": "stdout",
          "text": [
            "epoch = 0  loss = 13.3520\n",
            "epoch = 10  loss = 10.3855\n",
            "epoch = 20  loss = 8.5173\n",
            "epoch = 30  loss = 7.3364\n",
            "epoch = 40  loss = 6.5858\n",
            "epoch = 50  loss = 6.1047\n",
            "epoch = 60  loss = 5.7927\n",
            "epoch = 70  loss = 5.5868\n",
            "epoch = 80  loss = 5.4476\n",
            "epoch = 90  loss = 5.3507\n",
            "epoch = 100  loss = 5.2805\n",
            "epoch = 110  loss = 5.2275\n",
            "epoch = 120  loss = 5.1855\n",
            "epoch = 130  loss = 5.1507\n",
            "epoch = 140  loss = 5.1208\n",
            "epoch = 150  loss = 5.0943\n",
            "epoch = 160  loss = 5.0703\n",
            "epoch = 170  loss = 5.0480\n",
            "epoch = 180  loss = 5.0271\n",
            "epoch = 190  loss = 5.0074\n",
            "epoch = 200  loss = 4.9887\n",
            "epoch = 210  loss = 4.9708\n",
            "epoch = 220  loss = 4.9537\n",
            "epoch = 230  loss = 4.9373\n",
            "epoch = 240  loss = 4.9217\n",
            "epoch = 250  loss = 4.9066\n",
            "epoch = 260  loss = 4.8922\n",
            "epoch = 270  loss = 4.8783\n",
            "epoch = 280  loss = 4.8650\n",
            "epoch = 290  loss = 4.8522\n",
            "epoch = 300  loss = 4.8399\n",
            "epoch = 310  loss = 4.8281\n",
            "epoch = 320  loss = 4.8167\n",
            "epoch = 330  loss = 4.8058\n",
            "epoch = 340  loss = 4.7953\n",
            "epoch = 350  loss = 4.7853\n",
            "epoch = 360  loss = 4.7756\n",
            "epoch = 370  loss = 4.7663\n",
            "epoch = 380  loss = 4.7574\n",
            "epoch = 390  loss = 4.7488\n",
            "epoch = 400  loss = 4.7406\n",
            "epoch = 410  loss = 4.7327\n",
            "epoch = 420  loss = 4.7251\n",
            "epoch = 430  loss = 4.7178\n",
            "epoch = 440  loss = 4.7108\n",
            "epoch = 450  loss = 4.7040\n",
            "epoch = 460  loss = 4.6976\n",
            "epoch = 470  loss = 4.6913\n",
            "epoch = 480  loss = 4.6854\n",
            "epoch = 490  loss = 4.6796\n"
          ]
        }
      ]
    },
    {
      "cell_type": "code",
      "metadata": {
        "id": "IPNHGAdeWVQt",
        "colab": {
          "base_uri": "https://localhost:8080/"
        },
        "outputId": "deec135e-c77a-4d4d-9dd4-5f5715b530fc"
      },
      "source": [
        "# 최종 파라미터 값\n",
        "print('W = ', W.data.numpy())\n",
        "print('B = ', B.data.numpy())\n",
        "\n",
        "# 손실 확인\n",
        "print(f'초기상태 : 손실:{history[0,1]:.4f}') \n",
        "print(f'최종상태 : 손실:{history[-1,1]:.4f}') "
      ],
      "execution_count": 58,
      "outputs": [
        {
          "output_type": "stream",
          "name": "stdout",
          "text": [
            "W =  1.820683\n",
            "B =  0.3675114\n",
            "초기상태 : 손실:13.3520\n",
            "최종상태 : 손실:4.6796\n"
          ]
        }
      ]
    },
    {
      "cell_type": "code",
      "metadata": {
        "scrolled": false,
        "id": "Gllq7RCrWVQt",
        "colab": {
          "base_uri": "https://localhost:8080/",
          "height": 416
        },
        "outputId": "415ebe1b-2bc3-4a15-e9c4-69911eefbdef"
      },
      "source": [
        "# 학습 곡선 출력(손실)\n",
        "\n",
        "plt.plot(history[:,0], history[:,1], 'b')\n",
        "plt.xlabel('반복 횟수')\n",
        "plt.ylabel('손실')\n",
        "plt.title('학습 곡선(손실)')\n",
        "plt.show()"
      ],
      "execution_count": 59,
      "outputs": [
        {
          "output_type": "display_data",
          "data": {
            "text/plain": [
              "<Figure size 432x432 with 1 Axes>"
            ],
            "image/png": "[encoded data removed]"
          },
          "metadata": {
            "needs_background": "light"
          }
        }
      ]
    },
    {
      "cell_type": "markdown",
      "metadata": {
        "id": "8xhELdZxWVQt"
      },
      "source": [
        "3.7의 결과와 비교해보면 동일한 것을 알 수 있다.\n",
        "따라서, step 함수는 다음의 코드와 같은 로직을 수행하고 있다.\n",
        "\n",
        "```py3\n",
        "\n",
        " with torch.no_grad():\n",
        "        # 파라미터 수정\n",
        "        # 프레임워크를 사용하는 경우는 step 함수가 이를 대신함\n",
        "        W -= lr * W.grad\n",
        "        B -= lr * B.grad\n",
        "```"
      ]
    },
    {
      "cell_type": "markdown",
      "metadata": {
        "id": "llF8abxMWVQt"
      },
      "source": [
        "### 최적화 함수 튜닝"
      ]
    },
    {
      "cell_type": "code",
      "metadata": {
        "id": "PJrzSRW4WVQt"
      },
      "source": [
        "# 초기화\n",
        "\n",
        "# W와 B를 변수로 사용\n",
        "W = torch.tensor(1.0, requires_grad=True).float()\n",
        "B = torch.tensor(1.0, requires_grad=True).float()\n",
        "\n",
        "# 반복 횟수\n",
        "num_epochs = 500\n",
        "\n",
        "# 학습률\n",
        "lr = 0.001\n",
        "\n",
        "# optimizer로 SGD(확률적 경사 하강법)을 사용\n",
        "import torch.optim as optim\n",
        "optimizer = optim.SGD([W, B], lr=lr, momentum=0.9) # 모멘텀 최적화 optimizer 사용\n",
        "\n",
        "# history 기록을 위한 배열 초기화\n",
        "history2 = np.zeros((0, 2))"
      ],
      "execution_count": 60,
      "outputs": []
    },
    {
      "cell_type": "code",
      "metadata": {
        "id": "zgsU861zWVQt",
        "colab": {
          "base_uri": "https://localhost:8080/"
        },
        "outputId": "a777a8de-6129-4c81-afb7-4f55d6e17eeb"
      },
      "source": [
        "# 루프 처리\n",
        "\n",
        "for epoch in range(num_epochs):\n",
        "\n",
        "    # 예측 계산\n",
        "    Yp = pred(X)\n",
        "    \n",
        "    # 손실 계산\n",
        "    loss = mse(Yp, Y)\n",
        "\n",
        "    # 경사 계산\n",
        "    loss.backward()\n",
        "\n",
        "    # 파라미터 수정\n",
        "    optimizer.step()\n",
        "    \n",
        "    # 경삿값 초기화\n",
        "    optimizer.zero_grad()\n",
        "        \n",
        "    # 손실 기록\n",
        "    if (epoch %10 == 0):\n",
        "        item = np.array([epoch, loss.item()])\n",
        "        history2 = np.vstack((history2, item))\n",
        "        print(f'epoch = {epoch}  loss = {loss:.4f}')"
      ],
      "execution_count": 61,
      "outputs": [
        {
          "output_type": "stream",
          "name": "stdout",
          "text": [
            "epoch = 0  loss = 13.3520\n",
            "epoch = 10  loss = 5.7585\n",
            "epoch = 20  loss = 5.9541\n",
            "epoch = 30  loss = 5.0276\n",
            "epoch = 40  loss = 4.8578\n",
            "epoch = 50  loss = 4.7052\n",
            "epoch = 60  loss = 4.6327\n",
            "epoch = 70  loss = 4.5940\n",
            "epoch = 80  loss = 4.5698\n",
            "epoch = 90  loss = 4.5574\n",
            "epoch = 100  loss = 4.5495\n",
            "epoch = 110  loss = 4.5452\n",
            "epoch = 120  loss = 4.5426\n",
            "epoch = 130  loss = 4.5411\n",
            "epoch = 140  loss = 4.5403\n",
            "epoch = 150  loss = 4.5398\n",
            "epoch = 160  loss = 4.5395\n",
            "epoch = 170  loss = 4.5393\n",
            "epoch = 180  loss = 4.5392\n",
            "epoch = 190  loss = 4.5391\n",
            "epoch = 200  loss = 4.5391\n",
            "epoch = 210  loss = 4.5391\n",
            "epoch = 220  loss = 4.5391\n",
            "epoch = 230  loss = 4.5390\n",
            "epoch = 240  loss = 4.5390\n",
            "epoch = 250  loss = 4.5390\n",
            "epoch = 260  loss = 4.5390\n",
            "epoch = 270  loss = 4.5390\n",
            "epoch = 280  loss = 4.5390\n",
            "epoch = 290  loss = 4.5390\n",
            "epoch = 300  loss = 4.5390\n",
            "epoch = 310  loss = 4.5390\n",
            "epoch = 320  loss = 4.5390\n",
            "epoch = 330  loss = 4.5390\n",
            "epoch = 340  loss = 4.5390\n",
            "epoch = 350  loss = 4.5390\n",
            "epoch = 360  loss = 4.5390\n",
            "epoch = 370  loss = 4.5390\n",
            "epoch = 380  loss = 4.5390\n",
            "epoch = 390  loss = 4.5390\n",
            "epoch = 400  loss = 4.5390\n",
            "epoch = 410  loss = 4.5390\n",
            "epoch = 420  loss = 4.5390\n",
            "epoch = 430  loss = 4.5390\n",
            "epoch = 440  loss = 4.5390\n",
            "epoch = 450  loss = 4.5390\n",
            "epoch = 460  loss = 4.5390\n",
            "epoch = 470  loss = 4.5390\n",
            "epoch = 480  loss = 4.5390\n",
            "epoch = 490  loss = 4.5390\n"
          ]
        }
      ]
    },
    {
      "cell_type": "code",
      "metadata": {
        "id": "e1BTUhNSWVQu",
        "colab": {
          "base_uri": "https://localhost:8080/",
          "height": 416
        },
        "outputId": "12822256-3d12-48e8-d057-00d9ddf17f14"
      },
      "source": [
        "# 학습 곡선(손실) 출력\n",
        "\n",
        "plt.plot(history[:,0], history[:,1], 'b', label='기본값 설정')\n",
        "plt.plot(history2[:,0], history2[:,1], 'k', label='momentum=0.9')\n",
        "plt.xlabel('반복 횟수')\n",
        "plt.ylabel('손실')\n",
        "plt.legend()\n",
        "plt.title('학습 곡선(손실)')\n",
        "plt.show()"
      ],
      "execution_count": 62,
      "outputs": [
        {
          "output_type": "display_data",
          "data": {
            "text/plain": [
              "<Figure size 432x432 with 1 Axes>"
            ],
            "image/png": "[encoded data removed]"
          },
          "metadata": {
            "needs_background": "light"
          }
        }
      ]
    },
    {
      "cell_type": "markdown",
      "source": [
        "튜닝한 경우가 학습 속도가 빨라졌음을 확인할 수 있다.\n"
      ],
      "metadata": {
        "id": "FYAE-ktTwaMi"
      }
    },
    {
      "cell_type": "markdown",
      "metadata": {
        "id": "c_Bw4JEnWVQu"
      },
      "source": [
        "## 칼럼　국소적 최적화 문제\n",
        "- 근처 작은 언덕밖에 오르지 못하고 가장 높은 산의 정상\\\n",
        "즉 '전역적(global)최적해'를 발견하지 못할 가능성이 있다는 것이 경사 하강법의 최대 문제이다.\n",
        "\n",
        "- 이것을 대체하기 위해서는 '미니 배치 학습법'을 사용한다 -> 8.7절에서 학습\n"
      ]
    },
    {
      "cell_type": "code",
      "metadata": {
        "id": "WpLZKllPWVQu"
      },
      "source": [
        "def f(x):\n",
        "    return x * (x+1) * (x+2) * (x-2)"
      ],
      "execution_count": 64,
      "outputs": []
    },
    {
      "cell_type": "code",
      "metadata": {
        "id": "ieChuekDWVQu",
        "colab": {
          "base_uri": "https://localhost:8080/",
          "height": 357
        },
        "outputId": "444a62f9-8063-4fcd-90fd-1c335c7d32ba"
      },
      "source": [
        "x = np.arange(-3, 2.7, 0.05)\n",
        "y = f(x)\n",
        "\n",
        "plt.plot(x, y)\n",
        "plt.axis('off')\n",
        "plt.show()"
      ],
      "execution_count": 65,
      "outputs": [
        {
          "output_type": "display_data",
          "data": {
            "text/plain": [
              "<Figure size 432x432 with 1 Axes>"
            ],
            "image/png": "[encoded data removed]"
          },
          "metadata": {
            "needs_background": "light"
          }
        }
      ]
    },
    {
      "cell_type": "code",
      "metadata": {
        "id": "eDKFJHWpWVQu"
      },
      "source": [],
      "execution_count": null,
      "outputs": []
    }
  ]
}