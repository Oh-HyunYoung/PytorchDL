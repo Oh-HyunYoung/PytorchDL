{
  "nbformat": 4,
  "nbformat_minor": 0,
  "metadata": {
    "colab": {
      "provenance": [],
      "collapsed_sections": [],
      "include_colab_link": true
    },
    "kernelspec": {
      "display_name": "Python 3",
      "language": "python",
      "name": "python3"
    },
    "language_info": {
      "codemirror_mode": {
        "name": "ipython",
        "version": 3
      },
      "file_extension": ".py",
      "mimetype": "text/x-python",
      "name": "python",
      "nbconvert_exporter": "python",
      "pygments_lexer": "ipython3",
      "version": "3.8.5"
    }
  },
  "cells": [
    {
      "cell_type": "markdown",
      "metadata": {
        "id": "view-in-github",
        "colab_type": "text"
      },
      "source": [
        "<a href=\"https://colab.research.google.com/github/Oh-HyunYoung/PytorchDL/blob/main/basics/ch04_model_dev.ipynb\" target=\"_parent\"><img src=\"https://colab.research.google.com/assets/colab-badge.svg\" alt=\"Open In Colab\"/></a>"
      ]
    },
    {
      "cell_type": "markdown",
      "metadata": {
        "id": "qU9dTlgPF-Km"
      },
      "source": [
        "# 4장 예측 함수 정의하기"
      ]
    },
    {
      "cell_type": "markdown",
      "source": [
        "* \"부록3 매트플롯립 입문\"에서 한글 폰트를 올바르게 출력하기 위한 설치 방법을 설명했다. 설치 방법은 다음과 같다.\n"
      ],
      "metadata": {
        "id": "TEaKEFfyiVlm"
      }
    },
    {
      "cell_type": "code",
      "source": [
        "!sudo apt-get install -y fonts-nanum* | tail -n 1\n",
        "!sudo fc-cache -fv\n",
        "!rm -rf ~/.cache/matplotlib"
      ],
      "metadata": {
        "colab": {
          "base_uri": "https://localhost:8080/"
        },
        "id": "Xx5kaM87Dk9R",
        "outputId": "c03fe004-cc7b-4575-83e9-5570a27f5168"
      },
      "execution_count": 1,
      "outputs": [
        {
          "output_type": "stream",
          "name": "stdout",
          "text": [
            "debconf: unable to initialize frontend: Dialog\n",
            "debconf: (No usable dialog-like program is installed, so the dialog based frontend cannot be used. at /usr/share/perl5/Debconf/FrontEnd/Dialog.pm line 76, <> line 4.)\n",
            "debconf: falling back to frontend: Readline\n",
            "debconf: unable to initialize frontend: Readline\n",
            "debconf: (This frontend requires a controlling tty.)\n",
            "debconf: falling back to frontend: Teletype\n",
            "dpkg-preconfigure: unable to re-open stdin: \n",
            "Processing triggers for fontconfig (2.12.6-0ubuntu2) ...\n",
            "/usr/share/fonts: caching, new cache contents: 0 fonts, 1 dirs\n",
            "/usr/share/fonts/truetype: caching, new cache contents: 0 fonts, 3 dirs\n",
            "/usr/share/fonts/truetype/humor-sans: caching, new cache contents: 1 fonts, 0 dirs\n",
            "/usr/share/fonts/truetype/liberation: caching, new cache contents: 16 fonts, 0 dirs\n",
            "/usr/share/fonts/truetype/nanum: caching, new cache contents: 31 fonts, 0 dirs\n",
            "/usr/local/share/fonts: caching, new cache contents: 0 fonts, 0 dirs\n",
            "/root/.local/share/fonts: skipping, no such directory\n",
            "/root/.fonts: skipping, no such directory\n",
            "/var/cache/fontconfig: cleaning cache directory\n",
            "/root/.cache/fontconfig: not cleaning non-existent cache directory\n",
            "/root/.fontconfig: not cleaning non-existent cache directory\n",
            "fc-cache: succeeded\n"
          ]
        }
      ]
    },
    {
      "cell_type": "code",
      "metadata": {
        "id": "xV4MBR1YF-Kt",
        "colab": {
          "base_uri": "https://localhost:8080/"
        },
        "outputId": "b8e017a5-2268-4646-cd32-133618fa4aff"
      },
      "source": [
        "# 필요 라이브러리 설치\n",
        "\n",
        "!pip install torchviz | tail -n 1"
      ],
      "execution_count": 2,
      "outputs": [
        {
          "output_type": "stream",
          "name": "stdout",
          "text": [
            "Successfully installed torchviz-0.0.2\n"
          ]
        }
      ]
    },
    {
      "cell_type": "markdown",
      "source": [
        "* 모든 설치가 끝나면 한글 폰트를 바르게 출력하기 위해 **[런타임]** -> **[런타임 다시시작]**을 클릭한 다음, 아래 셀부터 코드를 실행해 주십시오."
      ],
      "metadata": {
        "id": "vxBzmkicD30t"
      }
    },
    {
      "cell_type": "code",
      "metadata": {
        "id": "BLjiUdMkF-Kv"
      },
      "source": [
        "# 라이브러리 임포트\n",
        "\n",
        "%matplotlib inline\n",
        "import numpy as np\n",
        "import matplotlib.pyplot as plt\n",
        "from IPython.display import display\n",
        "\n",
        "# 폰트 관련 용도\n",
        "import matplotlib.font_manager as fm\n",
        "\n",
        "# 나눔 고딕 폰트의 경로 명시\n",
        "path = '/usr/share/fonts/truetype/nanum/NanumGothic.ttf'\n",
        "font_name = fm.FontProperties(fname=path, size=10).get_name()"
      ],
      "execution_count": 1,
      "outputs": []
    },
    {
      "cell_type": "code",
      "metadata": {
        "id": "jDn5PNK1F-Kw"
      },
      "source": [
        "# 파이토치 관련 라이브러리\n",
        "import torch\n",
        "import torch.nn as nn\n",
        "from torchviz import make_dot"
      ],
      "execution_count": 2,
      "outputs": []
    },
    {
      "cell_type": "code",
      "metadata": {
        "id": "2EvqxdjJF-Kw"
      },
      "source": [
        "# 기본 폰트 설정\n",
        "plt.rcParams['font.family'] = font_name\n",
        "\n",
        "# 기본 폰트 사이즈 변경\n",
        "plt.rcParams['font.size'] = 14\n",
        "\n",
        "# 기본 그래프 사이즈 변경\n",
        "plt.rcParams['figure.figsize'] = (6,6)\n",
        "\n",
        "# 기본 그리드 표시\n",
        "# 필요에 따라 설정할 때는, plt.grid()\n",
        "plt.rcParams['axes.grid'] = True\n",
        "\n",
        "# 마이너스 기호 정상 출력\n",
        "plt.rcParams['axes.unicode_minus'] = False\n",
        "\n",
        "# 넘파이 부동소수점 자릿수 표시\n",
        "np.set_printoptions(suppress=True, precision=4)"
      ],
      "execution_count": 3,
      "outputs": []
    },
    {
      "cell_type": "markdown",
      "metadata": {
        "id": "_3WZJXXHF-Kw"
      },
      "source": [
        "## 4.4 예측 함수의 내부 구조"
      ]
    },
    {
      "cell_type": "code",
      "metadata": {
        "id": "QMdb2lxdF-Kw"
      },
      "source": [
        "# 레이어 함수 정의\n",
        "\n",
        "# 첫번째 선형 함수\n",
        "# 784 입력 수\n",
        "# 128 출력 수\n",
        "l1 = nn.Linear(784, 128)\n",
        "\n",
        "# 두번째 선형 함수\n",
        "# 128 입력 수\n",
        "# 10 출력 수\n",
        "l2 = nn.Linear(128, 10)\n",
        "\n",
        "# 활성화 함수\n",
        "relu = nn.ReLU(inplace=True)"
      ],
      "execution_count": 5,
      "outputs": []
    },
    {
      "cell_type": "code",
      "metadata": {
        "id": "F9HCp5nUF-Kx",
        "colab": {
          "base_uri": "https://localhost:8080/"
        },
        "outputId": "c320779e-e76b-4386-8c85-cbe04f468d58"
      },
      "source": [
        "# 입력 텐서로부터 출력 텐서를 계산\n",
        "\n",
        "# 더미 입력 데이터 작성\n",
        "inputs = torch.randn(100, 784)\n",
        "\n",
        "# 중간 텐서 1 계산\n",
        "m1 = l1(inputs)\n",
        "\n",
        "# 중간 텐서 2 계산\n",
        "m2 = relu(m1)\n",
        "\n",
        "# 출력 텐서 계산\n",
        "outputs = l2(m2)\n",
        "\n",
        "# 입력 텐서와 출력 텐서 shape 확인\n",
        "print('입력 텐서', inputs.shape)\n",
        "print('출력 텐서', outputs.shape)"
      ],
      "execution_count": 6,
      "outputs": [
        {
          "output_type": "stream",
          "name": "stdout",
          "text": [
            "입력 텐서 torch.Size([100, 784])\n",
            "출력 텐서 torch.Size([100, 10])\n"
          ]
        }
      ]
    },
    {
      "cell_type": "code",
      "metadata": {
        "id": "k1pBFECMF-Kx",
        "colab": {
          "base_uri": "https://localhost:8080/"
        },
        "outputId": "3fa344eb-2272-488c-c3cf-d783da8c1098"
      },
      "source": [
        "# nn.Sequential을 사용해 전체를 합성 함수로 정의\n",
        "\n",
        "net2 = nn.Sequential(\n",
        "    l1,\n",
        "    relu,\n",
        "    l2\n",
        ")\n",
        "\n",
        "outputs2 = net2(inputs)\n",
        "\n",
        "# 입력 텐서와 출력 텐서의 shape 확인\n",
        "print('입력 텐서', inputs.shape)\n",
        "print('출력 텐서', outputs2.shape)"
      ],
      "execution_count": null,
      "outputs": [
        {
          "output_type": "stream",
          "name": "stdout",
          "text": [
            "입력 텐서 torch.Size([100, 784])\n",
            "출력 텐서 torch.Size([100, 10])\n"
          ]
        }
      ]
    },
    {
      "cell_type": "markdown",
      "source": [
        "##4.6 파이토치 머신러닝 프로그램의 전체상 \n",
        "- 반복 처리 순서\\\n",
        "1) 예측 계산\n",
        "2) 손실 계산\n",
        "3) 경사 계산\n",
        "4) 파라미터 수정"
      ],
      "metadata": {
        "id": "Dq2Yp07JwHuA"
      }
    },
    {
      "cell_type": "markdown",
      "metadata": {
        "id": "wQf1DBaS8FZm"
      },
      "source": [
        "## 4.7 활성화 함수의 목적\n",
        "이 절에서는 예측 결과 그래프(그림 4-9에서 그림 4-11까지)가 중요하며, 따라서 지금 시점에서 구현 코드의 의미를 이해하지 못하더라도 상관없다. 아래의 코드는 어디까지나 참고를 위해 작성되었다."
      ]
    },
    {
      "cell_type": "markdown",
      "metadata": {
        "id": "J7apEGDq8zS7"
      },
      "source": [
        "#### 학습용 데이터 계산"
      ]
    },
    {
      "cell_type": "code",
      "metadata": {
        "id": "WRauI6Z7Gvz8"
      },
      "source": [
        "# 훈련 데이터, 검증 데이터 계산\n",
        "np.random.seed(123)\n",
        "x = np.random.randn(100,1)\n",
        "\n",
        "# y는 x^2에 난수를 1/10만큼 더한 값\n",
        "y = x**2 + np.random.randn(100,1) * 0.1\n",
        "\n",
        "# 데이터를 50건씩 훈련용과 검증용으로 나눔\n",
        "x_train = x[:50,:]\n",
        "x_test = x[50:,:]\n",
        "y_train = y[:50,:]\n",
        "y_test = y[50:,:]"
      ],
      "execution_count": 7,
      "outputs": []
    },
    {
      "cell_type": "code",
      "metadata": {
        "id": "WubHpuSu9F2a",
        "colab": {
          "base_uri": "https://localhost:8080/",
          "height": 378
        },
        "outputId": "89358f3c-26b1-4c80-b4e7-3d33ccb66829"
      },
      "source": [
        "# 산포도 출력\n",
        "plt.scatter(x_train, y_train, c='b', label='훈련 데이터')\n",
        "plt.scatter(x_test, y_test, c='k', marker='x', label='검증 데이터')\n",
        "plt.legend()\n",
        "plt.show()"
      ],
      "execution_count": 8,
      "outputs": [
        {
          "output_type": "display_data",
          "data": {
            "text/plain": [
              "<Figure size 432x432 with 1 Axes>"
            ],
            "image/png": "[encoded data removed]"
          },
          "metadata": {
            "needs_background": "light"
          }
        }
      ]
    },
    {
      "cell_type": "code",
      "metadata": {
        "id": "eCrl5qLz9yB8"
      },
      "source": [
        "# 입력 변수 x와 정답 yt의 텐서화\n",
        "\n",
        "inputs = torch.tensor(x_train).float()\n",
        "labels = torch.tensor(y_train).float()\n",
        "\n",
        "inputs_test = torch.tensor(x_test).float()\n",
        "labels_test = torch.tensor(y_test).float()"
      ],
      "execution_count": 9,
      "outputs": []
    },
    {
      "cell_type": "code",
      "metadata": {
        "id": "k3QIOgzv-OOO"
      },
      "source": [
        "import torch.optim as optim"
      ],
      "execution_count": 10,
      "outputs": []
    },
    {
      "cell_type": "markdown",
      "metadata": {
        "id": "HVl4DOk0-vhO"
      },
      "source": [
        "### 선형 회귀 모델의 경우"
      ]
    },
    {
      "cell_type": "code",
      "metadata": {
        "id": "JRyZGGMN9_d3"
      },
      "source": [
        "# 모델 정의\n",
        "\n",
        "class Net(nn.Module):\n",
        "    def __init__(self):\n",
        "        #  부모 클래스 nn.Modules 의 초기화\n",
        "        super().__init__()\n",
        "\n",
        "        # 출력층 정의\n",
        "        self.l1 = nn.Linear(1, 1)   \n",
        "        \n",
        "    # 예측 함수 정의\n",
        "    def forward(self, x):\n",
        "        x1 = self.l1(x) # 선형 회귀\n",
        "        return x1"
      ],
      "execution_count": 11,
      "outputs": []
    },
    {
      "cell_type": "code",
      "metadata": {
        "id": "h4P55Zk5-Cwk"
      },
      "source": [
        "# 학습률\n",
        "lr = 0.01\n",
        "\n",
        "# 인스턴스 생성(파라미터 초기화)\n",
        "net = Net()\n",
        "\n",
        "# 최적화 알고리즘 : 경사 하강법\n",
        "optimizer = optim.SGD(net.parameters(), lr=lr)\n",
        "\n",
        "# 손실 함수： 평균 제곱 오차\n",
        "criterion = nn.MSELoss()\n",
        "\n",
        "# 반복 횟수\n",
        "num_epochs = 10000\n",
        "\n",
        "#  history 기록을 위한 배열 초기화(손실 함수 값 만을 기록)\n",
        "history = np.zeros((0,2))"
      ],
      "execution_count": 12,
      "outputs": []
    },
    {
      "cell_type": "code",
      "metadata": {
        "id": "po6RlG27-FqN",
        "colab": {
          "base_uri": "https://localhost:8080/"
        },
        "outputId": "f2e0e5d0-5918-4f12-ab9f-2ce0120a4868"
      },
      "source": [
        "# 반복 계산 메인 루프\n",
        "\n",
        "for epoch in range(num_epochs):\n",
        "    \n",
        "    # 경사 값 초기화\n",
        "    optimizer.zero_grad()\n",
        "\n",
        "    # 예측 계산\n",
        "    outputs = net(inputs)\n",
        "  \n",
        "    # 오차 계산\n",
        "    loss = criterion(outputs, labels)\n",
        "\n",
        "    # 경사 계산\n",
        "    loss.backward()\n",
        "\n",
        "    # 경사 하강법 적용\n",
        "    optimizer.step()\n",
        "\n",
        "    # 100회 마다 도중 경과를 기록\n",
        "    if ( epoch % 100 == 0):\n",
        "        history = np.vstack((history, np.array([epoch, loss.item()])))\n",
        "        print(f'Epoch {epoch} loss: {loss.item():.5f}')"
      ],
      "execution_count": 13,
      "outputs": [
        {
          "output_type": "stream",
          "name": "stdout",
          "text": [
            "Epoch 0 loss: 5.30020\n",
            "Epoch 100 loss: 3.24219\n",
            "Epoch 200 loss: 3.21588\n",
            "Epoch 300 loss: 3.21545\n",
            "Epoch 400 loss: 3.21544\n",
            "Epoch 500 loss: 3.21544\n",
            "Epoch 600 loss: 3.21544\n",
            "Epoch 700 loss: 3.21544\n",
            "Epoch 800 loss: 3.21544\n",
            "Epoch 900 loss: 3.21544\n",
            "Epoch 1000 loss: 3.21544\n",
            "Epoch 1100 loss: 3.21544\n",
            "Epoch 1200 loss: 3.21544\n",
            "Epoch 1300 loss: 3.21544\n",
            "Epoch 1400 loss: 3.21544\n",
            "Epoch 1500 loss: 3.21544\n",
            "Epoch 1600 loss: 3.21544\n",
            "Epoch 1700 loss: 3.21544\n",
            "Epoch 1800 loss: 3.21544\n",
            "Epoch 1900 loss: 3.21544\n",
            "Epoch 2000 loss: 3.21544\n",
            "Epoch 2100 loss: 3.21544\n",
            "Epoch 2200 loss: 3.21544\n",
            "Epoch 2300 loss: 3.21544\n",
            "Epoch 2400 loss: 3.21544\n",
            "Epoch 2500 loss: 3.21544\n",
            "Epoch 2600 loss: 3.21544\n",
            "Epoch 2700 loss: 3.21544\n",
            "Epoch 2800 loss: 3.21544\n",
            "Epoch 2900 loss: 3.21544\n",
            "Epoch 3000 loss: 3.21544\n",
            "Epoch 3100 loss: 3.21544\n",
            "Epoch 3200 loss: 3.21544\n",
            "Epoch 3300 loss: 3.21544\n",
            "Epoch 3400 loss: 3.21544\n",
            "Epoch 3500 loss: 3.21544\n",
            "Epoch 3600 loss: 3.21544\n",
            "Epoch 3700 loss: 3.21544\n",
            "Epoch 3800 loss: 3.21544\n",
            "Epoch 3900 loss: 3.21544\n",
            "Epoch 4000 loss: 3.21544\n",
            "Epoch 4100 loss: 3.21544\n",
            "Epoch 4200 loss: 3.21544\n",
            "Epoch 4300 loss: 3.21544\n",
            "Epoch 4400 loss: 3.21544\n",
            "Epoch 4500 loss: 3.21544\n",
            "Epoch 4600 loss: 3.21544\n",
            "Epoch 4700 loss: 3.21544\n",
            "Epoch 4800 loss: 3.21544\n",
            "Epoch 4900 loss: 3.21544\n",
            "Epoch 5000 loss: 3.21544\n",
            "Epoch 5100 loss: 3.21544\n",
            "Epoch 5200 loss: 3.21544\n",
            "Epoch 5300 loss: 3.21544\n",
            "Epoch 5400 loss: 3.21544\n",
            "Epoch 5500 loss: 3.21544\n",
            "Epoch 5600 loss: 3.21544\n",
            "Epoch 5700 loss: 3.21544\n",
            "Epoch 5800 loss: 3.21544\n",
            "Epoch 5900 loss: 3.21544\n",
            "Epoch 6000 loss: 3.21544\n",
            "Epoch 6100 loss: 3.21544\n",
            "Epoch 6200 loss: 3.21544\n",
            "Epoch 6300 loss: 3.21544\n",
            "Epoch 6400 loss: 3.21544\n",
            "Epoch 6500 loss: 3.21544\n",
            "Epoch 6600 loss: 3.21544\n",
            "Epoch 6700 loss: 3.21544\n",
            "Epoch 6800 loss: 3.21544\n",
            "Epoch 6900 loss: 3.21544\n",
            "Epoch 7000 loss: 3.21544\n",
            "Epoch 7100 loss: 3.21544\n",
            "Epoch 7200 loss: 3.21544\n",
            "Epoch 7300 loss: 3.21544\n",
            "Epoch 7400 loss: 3.21544\n",
            "Epoch 7500 loss: 3.21544\n",
            "Epoch 7600 loss: 3.21544\n",
            "Epoch 7700 loss: 3.21544\n",
            "Epoch 7800 loss: 3.21544\n",
            "Epoch 7900 loss: 3.21544\n",
            "Epoch 8000 loss: 3.21544\n",
            "Epoch 8100 loss: 3.21544\n",
            "Epoch 8200 loss: 3.21544\n",
            "Epoch 8300 loss: 3.21544\n",
            "Epoch 8400 loss: 3.21544\n",
            "Epoch 8500 loss: 3.21544\n",
            "Epoch 8600 loss: 3.21544\n",
            "Epoch 8700 loss: 3.21544\n",
            "Epoch 8800 loss: 3.21544\n",
            "Epoch 8900 loss: 3.21544\n",
            "Epoch 9000 loss: 3.21544\n",
            "Epoch 9100 loss: 3.21544\n",
            "Epoch 9200 loss: 3.21544\n",
            "Epoch 9300 loss: 3.21544\n",
            "Epoch 9400 loss: 3.21544\n",
            "Epoch 9500 loss: 3.21544\n",
            "Epoch 9600 loss: 3.21544\n",
            "Epoch 9700 loss: 3.21544\n",
            "Epoch 9800 loss: 3.21544\n",
            "Epoch 9900 loss: 3.21544\n"
          ]
        }
      ]
    },
    {
      "cell_type": "code",
      "metadata": {
        "id": "v-ClJcWw-XTk",
        "colab": {
          "base_uri": "https://localhost:8080/",
          "height": 396
        },
        "outputId": "43c6037c-02f1-452e-d0f3-77556914e450"
      },
      "source": [
        "# 결과 그래프\n",
        "labels_pred = net(inputs_test)\n",
        "\n",
        "plt.title('은닉층 없음,　활성화 함수 없음')\n",
        "plt.scatter(inputs_test[:,0].data, labels_pred[:,0].data, c='b', label='예측값')\n",
        "plt.scatter(inputs_test[:,0].data, labels_test[:,0].data, c='k', marker='x',label='정답')\n",
        "plt.legend()\n",
        "plt.show()"
      ],
      "execution_count": 14,
      "outputs": [
        {
          "output_type": "display_data",
          "data": {
            "text/plain": [
              "<Figure size 432x432 with 1 Axes>"
            ],
            "image/png": "[encoded data removed]"
          },
          "metadata": {
            "needs_background": "light"
          }
        }
      ]
    },
    {
      "cell_type": "markdown",
      "metadata": {
        "id": "yAO6k3Nu-z85"
      },
      "source": [
        "### 유사 딥러닝 모델의 경우"
      ]
    },
    {
      "cell_type": "code",
      "metadata": {
        "id": "pEQbY7qG-nBu"
      },
      "source": [
        "# 모델 정의\n",
        "\n",
        "class Net2(nn.Module):\n",
        "    def __init__(self):\n",
        "        #  부모 클래스 nn.Modules 초기화\n",
        "        super().__init__()\n",
        "\n",
        "        # 출력층 정의\n",
        "        self.l1 = nn.Linear(1, 10)\n",
        "        self.l2 = nn.Linear(10, 10)\n",
        "        self.l3 = nn.Linear(10,1)\n",
        "        \n",
        "    # 예측 함수 정의\n",
        "    def forward(self, x):\n",
        "        x1 = self.l1(x)\n",
        "        x2 = self.l2(x1)\n",
        "        x3 = self.l3(x2)\n",
        "        return x3"
      ],
      "execution_count": 15,
      "outputs": []
    },
    {
      "cell_type": "code",
      "metadata": {
        "id": "gvbOfSCh-6mC"
      },
      "source": [
        "# 학습률\n",
        "lr = 0.01\n",
        "\n",
        "# 인스턴스 생성(파라미터 초기화)\n",
        "net2 = Net2()\n",
        "\n",
        "# 최적화 알고리즘 : 경사 하강법\n",
        "optimizer = optim.SGD(net2.parameters(), lr=lr)\n",
        "\n",
        "# 손실 함수 : 평균 제곱 오차\n",
        "criterion = nn.MSELoss()\n",
        "\n",
        "# 반복 횟수\n",
        "num_epochs = 10000\n",
        "\n",
        "# history 기록을 위한 배열 초기화(손실 함수 값 만을 기록)\n",
        "history = np.zeros((0,2))"
      ],
      "execution_count": 16,
      "outputs": []
    },
    {
      "cell_type": "code",
      "metadata": {
        "id": "8mUIKSmN-93V",
        "colab": {
          "base_uri": "https://localhost:8080/"
        },
        "outputId": "57fc9559-f772-4e0e-d597-4da86396d297"
      },
      "source": [
        "# 반복 계산 메인 루프\n",
        "\n",
        "for epoch in range(num_epochs):\n",
        "    \n",
        "    # 경사 값 초기화\n",
        "    optimizer.zero_grad()\n",
        "\n",
        "    # 예측 계산\n",
        "    outputs = net2(inputs)\n",
        "  \n",
        "    # 오차 계산\n",
        "    loss = criterion(outputs, labels)\n",
        "\n",
        "    # 경사 계산\n",
        "    loss.backward()\n",
        "\n",
        "    # 경사 하강법 적용\n",
        "    optimizer.step()\n",
        "\n",
        "    # 100회 마다 도중 경과를 기록\n",
        "    if ( epoch % 100 == 0):\n",
        "        history = np.vstack((history, np.array([epoch, loss.item()])))\n",
        "        print(f'Epoch {epoch} loss: {loss.item():.5f}')"
      ],
      "execution_count": 17,
      "outputs": [
        {
          "output_type": "stream",
          "name": "stdout",
          "text": [
            "Epoch 0 loss: 4.20728\n",
            "Epoch 100 loss: 3.21544\n",
            "Epoch 200 loss: 3.21544\n",
            "Epoch 300 loss: 3.21544\n",
            "Epoch 400 loss: 3.21544\n",
            "Epoch 500 loss: 3.21544\n",
            "Epoch 600 loss: 3.21544\n",
            "Epoch 700 loss: 3.21544\n",
            "Epoch 800 loss: 3.21544\n",
            "Epoch 900 loss: 3.21544\n",
            "Epoch 1000 loss: 3.21544\n",
            "Epoch 1100 loss: 3.21544\n",
            "Epoch 1200 loss: 3.21544\n",
            "Epoch 1300 loss: 3.21544\n",
            "Epoch 1400 loss: 3.21544\n",
            "Epoch 1500 loss: 3.21544\n",
            "Epoch 1600 loss: 3.21544\n",
            "Epoch 1700 loss: 3.21544\n",
            "Epoch 1800 loss: 3.21544\n",
            "Epoch 1900 loss: 3.21544\n",
            "Epoch 2000 loss: 3.21544\n",
            "Epoch 2100 loss: 3.21544\n",
            "Epoch 2200 loss: 3.21544\n",
            "Epoch 2300 loss: 3.21544\n",
            "Epoch 2400 loss: 3.21544\n",
            "Epoch 2500 loss: 3.21544\n",
            "Epoch 2600 loss: 3.21544\n",
            "Epoch 2700 loss: 3.21544\n",
            "Epoch 2800 loss: 3.21544\n",
            "Epoch 2900 loss: 3.21544\n",
            "Epoch 3000 loss: 3.21544\n",
            "Epoch 3100 loss: 3.21544\n",
            "Epoch 3200 loss: 3.21544\n",
            "Epoch 3300 loss: 3.21544\n",
            "Epoch 3400 loss: 3.21544\n",
            "Epoch 3500 loss: 3.21544\n",
            "Epoch 3600 loss: 3.21544\n",
            "Epoch 3700 loss: 3.21544\n",
            "Epoch 3800 loss: 3.21544\n",
            "Epoch 3900 loss: 3.21544\n",
            "Epoch 4000 loss: 3.21544\n",
            "Epoch 4100 loss: 3.21544\n",
            "Epoch 4200 loss: 3.21544\n",
            "Epoch 4300 loss: 3.21544\n",
            "Epoch 4400 loss: 3.21544\n",
            "Epoch 4500 loss: 3.21544\n",
            "Epoch 4600 loss: 3.21544\n",
            "Epoch 4700 loss: 3.21544\n",
            "Epoch 4800 loss: 3.21544\n",
            "Epoch 4900 loss: 3.21544\n",
            "Epoch 5000 loss: 3.21544\n",
            "Epoch 5100 loss: 3.21544\n",
            "Epoch 5200 loss: 3.21544\n",
            "Epoch 5300 loss: 3.21544\n",
            "Epoch 5400 loss: 3.21544\n",
            "Epoch 5500 loss: 3.21544\n",
            "Epoch 5600 loss: 3.21544\n",
            "Epoch 5700 loss: 3.21544\n",
            "Epoch 5800 loss: 3.21544\n",
            "Epoch 5900 loss: 3.21544\n",
            "Epoch 6000 loss: 3.21544\n",
            "Epoch 6100 loss: 3.21544\n",
            "Epoch 6200 loss: 3.21544\n",
            "Epoch 6300 loss: 3.21544\n",
            "Epoch 6400 loss: 3.21544\n",
            "Epoch 6500 loss: 3.21544\n",
            "Epoch 6600 loss: 3.21544\n",
            "Epoch 6700 loss: 3.21544\n",
            "Epoch 6800 loss: 3.21544\n",
            "Epoch 6900 loss: 3.21544\n",
            "Epoch 7000 loss: 3.21544\n",
            "Epoch 7100 loss: 3.21544\n",
            "Epoch 7200 loss: 3.21544\n",
            "Epoch 7300 loss: 3.21544\n",
            "Epoch 7400 loss: 3.21544\n",
            "Epoch 7500 loss: 3.21544\n",
            "Epoch 7600 loss: 3.21544\n",
            "Epoch 7700 loss: 3.21544\n",
            "Epoch 7800 loss: 3.21544\n",
            "Epoch 7900 loss: 3.21544\n",
            "Epoch 8000 loss: 3.21544\n",
            "Epoch 8100 loss: 3.21544\n",
            "Epoch 8200 loss: 3.21544\n",
            "Epoch 8300 loss: 3.21544\n",
            "Epoch 8400 loss: 3.21544\n",
            "Epoch 8500 loss: 3.21544\n",
            "Epoch 8600 loss: 3.21544\n",
            "Epoch 8700 loss: 3.21544\n",
            "Epoch 8800 loss: 3.21544\n",
            "Epoch 8900 loss: 3.21544\n",
            "Epoch 9000 loss: 3.21544\n",
            "Epoch 9100 loss: 3.21544\n",
            "Epoch 9200 loss: 3.21544\n",
            "Epoch 9300 loss: 3.21544\n",
            "Epoch 9400 loss: 3.21544\n",
            "Epoch 9500 loss: 3.21544\n",
            "Epoch 9600 loss: 3.21544\n",
            "Epoch 9700 loss: 3.21544\n",
            "Epoch 9800 loss: 3.21544\n",
            "Epoch 9900 loss: 3.21544\n"
          ]
        }
      ]
    },
    {
      "cell_type": "code",
      "metadata": {
        "id": "8Dem98PE_ApM",
        "colab": {
          "base_uri": "https://localhost:8080/",
          "height": 396
        },
        "outputId": "aa1ac506-6907-4f26-c34d-61a48f815f3f"
      },
      "source": [
        "# 결과 그래프\n",
        "labels_pred2 = net2(inputs_test)\n",
        "\n",
        "plt.title('은닉층 2개, 활성화 함수 사용하지 않음')\n",
        "plt.scatter(inputs_test[:,0].data, labels_pred2[:,0].data, c='b', label='예측값')\n",
        "plt.scatter(inputs_test[:,0].data, labels_test[:,0].data, c='k', marker='x',label='정답')\n",
        "plt.legend()\n",
        "plt.show()\n"
      ],
      "execution_count": 18,
      "outputs": [
        {
          "output_type": "display_data",
          "data": {
            "text/plain": [
              "<Figure size 432x432 with 1 Axes>"
            ],
            "image/png": "[encoded data removed]"
          },
          "metadata": {
            "needs_background": "light"
          }
        }
      ]
    },
    {
      "cell_type": "markdown",
      "metadata": {
        "id": "PFvMf5on_TwP"
      },
      "source": [
        "### 딥러닝 모델(활성화 함수 사용)의 경우"
      ]
    },
    {
      "cell_type": "code",
      "metadata": {
        "id": "R-oqefSk_FiB"
      },
      "source": [
        "# 모델 정의\n",
        "\n",
        "class Net3(nn.Module):\n",
        "    def __init__(self):\n",
        "        #  부모 클래스 nn.Modules 초기화\n",
        "        super().__init__()\n",
        "\n",
        "        # 출력층 정의\n",
        "        self.l1 = nn.Linear(1, 10)\n",
        "        self.l2 = nn.Linear(10, 10)\n",
        "        self.l3 = nn.Linear(10,1)\n",
        "        self.relu = nn.ReLU(inplace=True)\n",
        "        \n",
        "    # 예측 함수 정의\n",
        "    def forward(self, x):\n",
        "        x1 = self.relu(self.l1(x))\n",
        "        x2 = self.relu(self.l2(x1))\n",
        "        x3 = self.l3(x2)\n",
        "        return x3"
      ],
      "execution_count": 19,
      "outputs": []
    },
    {
      "cell_type": "code",
      "metadata": {
        "id": "5W9FC-Hm_IDA"
      },
      "source": [
        "# 학습률\n",
        "lr = 0.01\n",
        "\n",
        "# 인스턴스 생성(파라미터 초기화)\n",
        "net3 = Net3()\n",
        "\n",
        "# 최적화 알고리즘 : 경사 하강법\n",
        "optimizer = optim.SGD(net3.parameters(), lr=lr)\n",
        "\n",
        "# 손실 함수： 평균 제곱 오차\n",
        "criterion = nn.MSELoss()\n",
        "\n",
        "# 반복 횟수\n",
        "num_epochs = 10000\n",
        "\n",
        "# history 기록을 위한 배열 초기화(손실 함수 값 만을 기록)\n",
        "history = np.zeros((0,2))"
      ],
      "execution_count": 20,
      "outputs": []
    },
    {
      "cell_type": "code",
      "metadata": {
        "id": "o0EmBr7b_n9l",
        "colab": {
          "base_uri": "https://localhost:8080/"
        },
        "outputId": "762fa5c0-e95e-4afe-eafd-a51099073b68"
      },
      "source": [
        "# 반복 계산 메인 루프\n",
        "\n",
        "for epoch in range(num_epochs):\n",
        "    \n",
        "    # 경사 값 초기화\n",
        "    optimizer.zero_grad()\n",
        "\n",
        "    # 예측 계산\n",
        "    outputs = net3(inputs)\n",
        "  \n",
        "    # 오차 계산\n",
        "    loss = criterion(outputs, labels)\n",
        "\n",
        "    # 경사 계산\n",
        "    loss.backward()\n",
        "\n",
        "    # 경사 하강법 적용\n",
        "    optimizer.step()\n",
        "\n",
        "    # 100회 마다 도중 경과를 기록\n",
        "    if ( epoch % 100 == 0):\n",
        "        history = np.vstack((history, np.array([epoch, loss.item()])))\n",
        "        print(f'Epoch {epoch} loss: {loss.item():.5f}')"
      ],
      "execution_count": 21,
      "outputs": [
        {
          "output_type": "stream",
          "name": "stdout",
          "text": [
            "Epoch 0 loss: 6.22622\n",
            "Epoch 100 loss: 0.72911\n",
            "Epoch 200 loss: 0.15205\n",
            "Epoch 300 loss: 0.10894\n",
            "Epoch 400 loss: 0.08494\n",
            "Epoch 500 loss: 0.06122\n",
            "Epoch 600 loss: 0.05097\n",
            "Epoch 700 loss: 0.04430\n",
            "Epoch 800 loss: 0.03983\n",
            "Epoch 900 loss: 0.03573\n",
            "Epoch 1000 loss: 0.03265\n",
            "Epoch 1100 loss: 0.02971\n",
            "Epoch 1200 loss: 0.02773\n",
            "Epoch 1300 loss: 0.02636\n",
            "Epoch 1400 loss: 0.02510\n",
            "Epoch 1500 loss: 0.02397\n",
            "Epoch 1600 loss: 0.02300\n",
            "Epoch 1700 loss: 0.02212\n",
            "Epoch 1800 loss: 0.02132\n",
            "Epoch 1900 loss: 0.02063\n",
            "Epoch 2000 loss: 0.02004\n",
            "Epoch 2100 loss: 0.01951\n",
            "Epoch 2200 loss: 0.01900\n",
            "Epoch 2300 loss: 0.01853\n",
            "Epoch 2400 loss: 0.01808\n",
            "Epoch 2500 loss: 0.01766\n",
            "Epoch 2600 loss: 0.01725\n",
            "Epoch 2700 loss: 0.01687\n",
            "Epoch 2800 loss: 0.01650\n",
            "Epoch 2900 loss: 0.01616\n",
            "Epoch 3000 loss: 0.01584\n",
            "Epoch 3100 loss: 0.01553\n",
            "Epoch 3200 loss: 0.01524\n",
            "Epoch 3300 loss: 0.01496\n",
            "Epoch 3400 loss: 0.01470\n",
            "Epoch 3500 loss: 0.01445\n",
            "Epoch 3600 loss: 0.01421\n",
            "Epoch 3700 loss: 0.01398\n",
            "Epoch 3800 loss: 0.01377\n",
            "Epoch 3900 loss: 0.01356\n",
            "Epoch 4000 loss: 0.01336\n",
            "Epoch 4100 loss: 0.01318\n",
            "Epoch 4200 loss: 0.01300\n",
            "Epoch 4300 loss: 0.01283\n",
            "Epoch 4400 loss: 0.01267\n",
            "Epoch 4500 loss: 0.01251\n",
            "Epoch 4600 loss: 0.01236\n",
            "Epoch 4700 loss: 0.01222\n",
            "Epoch 4800 loss: 0.01209\n",
            "Epoch 4900 loss: 0.01196\n",
            "Epoch 5000 loss: 0.01184\n",
            "Epoch 5100 loss: 0.01173\n",
            "Epoch 5200 loss: 0.01162\n",
            "Epoch 5300 loss: 0.01152\n",
            "Epoch 5400 loss: 0.01143\n",
            "Epoch 5500 loss: 0.01134\n",
            "Epoch 5600 loss: 0.01125\n",
            "Epoch 5700 loss: 0.01117\n",
            "Epoch 5800 loss: 0.01109\n",
            "Epoch 5900 loss: 0.01101\n",
            "Epoch 6000 loss: 0.01094\n",
            "Epoch 6100 loss: 0.01088\n",
            "Epoch 6200 loss: 0.01081\n",
            "Epoch 6300 loss: 0.01075\n",
            "Epoch 6400 loss: 0.01070\n",
            "Epoch 6500 loss: 0.01065\n",
            "Epoch 6600 loss: 0.01061\n",
            "Epoch 6700 loss: 0.01056\n",
            "Epoch 6800 loss: 0.01052\n",
            "Epoch 6900 loss: 0.01048\n",
            "Epoch 7000 loss: 0.01045\n",
            "Epoch 7100 loss: 0.01041\n",
            "Epoch 7200 loss: 0.01038\n",
            "Epoch 7300 loss: 0.01035\n",
            "Epoch 7400 loss: 0.01032\n",
            "Epoch 7500 loss: 0.01029\n",
            "Epoch 7600 loss: 0.01026\n",
            "Epoch 7700 loss: 0.01024\n",
            "Epoch 7800 loss: 0.01022\n",
            "Epoch 7900 loss: 0.01019\n",
            "Epoch 8000 loss: 0.01017\n",
            "Epoch 8100 loss: 0.01015\n",
            "Epoch 8200 loss: 0.01013\n",
            "Epoch 8300 loss: 0.01011\n",
            "Epoch 8400 loss: 0.01010\n",
            "Epoch 8500 loss: 0.01008\n",
            "Epoch 8600 loss: 0.01006\n",
            "Epoch 8700 loss: 0.01005\n",
            "Epoch 8800 loss: 0.01003\n",
            "Epoch 8900 loss: 0.01002\n",
            "Epoch 9000 loss: 0.01000\n",
            "Epoch 9100 loss: 0.00999\n",
            "Epoch 9200 loss: 0.00998\n",
            "Epoch 9300 loss: 0.00996\n",
            "Epoch 9400 loss: 0.00995\n",
            "Epoch 9500 loss: 0.00994\n",
            "Epoch 9600 loss: 0.00992\n",
            "Epoch 9700 loss: 0.00991\n",
            "Epoch 9800 loss: 0.00990\n",
            "Epoch 9900 loss: 0.00989\n"
          ]
        }
      ]
    },
    {
      "cell_type": "code",
      "metadata": {
        "id": "6JFjZsuD_vBE",
        "colab": {
          "base_uri": "https://localhost:8080/",
          "height": 396
        },
        "outputId": "4f9a7f5f-8faf-4ea4-ad33-2688439e8877"
      },
      "source": [
        "# 결과 그래프\n",
        "labels_pred3 = net3(inputs_test)\n",
        "\n",
        "plt.title('은닉층 2개, 활성화 함수 사용')\n",
        "plt.scatter(inputs_test[:,0].data, labels_pred3[:,0].data, c='b', label='예측값')\n",
        "plt.scatter(inputs_test[:,0].data, labels_test[:,0].data, c='k', marker='x',label='정답')\n",
        "plt.legend()\n",
        "plt.show()\n"
      ],
      "execution_count": 22,
      "outputs": [
        {
          "output_type": "display_data",
          "data": {
            "text/plain": [
              "<Figure size 432x432 with 1 Axes>"
            ],
            "image/png": "[encoded data removed]"
          },
          "metadata": {
            "needs_background": "light"
          }
        }
      ]
    },
    {
      "cell_type": "markdown",
      "source": [
        "### 활성화 함수를 사용해서 학습해야함\n",
        "- '비선형 함수'로 불리는 활성화 함수를 선형 함수의 사이에 넣어야 비로소 깊은 층을 가진 딥러닝 모델이 의미를 갖게 되는 것이다.\n",
        "- 대표적 활성화 함수 ReLU 함수"
      ],
      "metadata": {
        "id": "gXL_Pxk8xvzX"
      }
    }
  ]
}